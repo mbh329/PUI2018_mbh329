{
 "cells": [
  {
   "cell_type": "markdown",
   "metadata": {},
   "source": [
    "## Plot Review\n",
    "\n",
    "The plot shown in the readme.md in your GitHub repo is a good start! The color scheme is clear and x axis is labelled. You also included a legend defining male and female.\n",
    "\n",
    "There are some improvements that I think are necessary to clearly show what you are plotting: \n",
    "\n",
    "- A title is needed to show your reader what the plot is about. As is, I have no idea what  you are trying to show with this graphic\n",
    "\n",
    "- You labeled the x axis but not the y axis. What are you measuring on the y axis?\n",
    "\n",
    "- What data did you use? What urban relevance does the data have? Source?\n",
    "\n",
    "- A caption should be included with your plot to help the \"reader\" understand what is going on in the plot. This is your chance to explain the data, any observations you found, and if there was any issues or anomolies. \n",
    "\n",
    "- I would try to make the graphic more intricate. Can you make it interactive? \n",
    "\n",
    "- Try to tell a story with your visualization. Why should we care about this? How can this help stakeholders better understand the subject matter?\n",
    "\n",
    "- You might want to think about how to incorporate more data into the plot instead of just two variables. Is there any other things that might add more substance to this plot?\n",
    "\n",
    "- A histogram is a nice visualization but is there a better way to visualize your data? Try to think of it as if you were completely unaware of the project and you had come across this plot. Would it make sense to someone who is unfamiliar with the work?\n",
    "\n"
   ]
  }
 ],
 "metadata": {
  "kernelspec": {
   "display_name": "PUI2016_Python3",
   "language": "python",
   "name": "pui2016_python3"
  },
  "language_info": {
   "codemirror_mode": {
    "name": "ipython",
    "version": 3
   },
   "file_extension": ".py",
   "mimetype": "text/x-python",
   "name": "python",
   "nbconvert_exporter": "python",
   "pygments_lexer": "ipython3",
   "version": "3.5.4"
  }
 },
 "nbformat": 4,
 "nbformat_minor": 2
}
