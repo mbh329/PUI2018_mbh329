{
 "cells": [
  {
   "cell_type": "markdown",
   "metadata": {},
   "source": [
    "## Plot Review for ab1831\n",
    "\n",
    "The plot shown in your readme.md is a nice graphic! You have incorporated a title and labeled both the x and y axis. \n",
    "\n",
    "Some suggestions for your plot to make it better:\n",
    "\n",
    "- A caption should be included with your plot to help the \"reader\" understand what is going on in the plot. This is your chance to explain the data, any observations you found, and if there was any issues or anomolies. \n",
    "\n",
    "- Can you plot more data into the graphic? Is there information about ethnicity that could be incorporated into the graphic? Tell a story with your graphic that can help stakeholders and \"readers\" understand the issues within the data\n",
    "\n",
    "- Within your title and caption, you should define math test scores. As is its a bit ambigious, Are they 3rd grade or high school level?\n",
    "\n",
    "- What do the y axis numbers correspond to? What are the scores out of? \n",
    "\n",
    "- Might be cool to also add in reading scores to do a compare and contrast? Can you clean the data to sort out borough level data? Are the scores higher in Queens than in Brooklyn?\n",
    "\n",
    "- Where is the data from? Link it to the graph for reproducibility.\n",
    "\n",
    "- Anway to make it interactive and more visually appealing is good but remeber to make sure you are telling a story and that is the correct story! Function over form!\n",
    "\n",
    "\n"
   ]
  }
 ],
 "metadata": {
  "kernelspec": {
   "display_name": "PUI2016_Python3",
   "language": "python",
   "name": "pui2016_python3"
  },
  "language_info": {
   "codemirror_mode": {
    "name": "ipython",
    "version": 3
   },
   "file_extension": ".py",
   "mimetype": "text/x-python",
   "name": "python",
   "nbconvert_exporter": "python",
   "pygments_lexer": "ipython3",
   "version": "3.5.4"
  }
 },
 "nbformat": 4,
 "nbformat_minor": 2
}
