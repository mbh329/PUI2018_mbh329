{
 "cells": [
  {
   "cell_type": "code",
   "execution_count": 31,
   "metadata": {},
   "outputs": [
    {
     "name": "stdout",
     "output_type": "stream",
     "text": [
      "Populating the interactive namespace from numpy and matplotlib\n"
     ]
    },
    {
     "name": "stderr",
     "output_type": "stream",
     "text": [
      "/usr/local/Anaconda3-5.0.0-Linux-x86_64/envs/PUI2016_Python3/lib/python3.5/site-packages/IPython/core/magics/pylab.py:161: UserWarning: pylab import has clobbered these variables: ['scatter']\n",
      "`%matplotlib` prevents importing * from pylab and numpy\n",
      "  \"\\n`%matplotlib` prevents importing * from pylab and numpy\"\n"
     ]
    }
   ],
   "source": [
    "from __future__ import print_function, division\n",
    "import pylab as pl\n",
    "import numpy as np\n",
    "import pandas as pd \n",
    "\n",
    "import matplotlib.pyplot as plt\n",
    "plt.style.use('seaborn-whitegrid')\n",
    "\n",
    "import os\n",
    "import json\n",
    "import csv\n",
    "\n",
    "import statsmodels.api as sm\n",
    "import statsmodels.formula.api as smf\n",
    "import seaborn as sns\n",
    "\n",
    "%pylab inline\n",
    "\n",
    "%matplotlib inline"
   ]
  },
  {
   "cell_type": "code",
   "execution_count": 32,
   "metadata": {},
   "outputs": [
    {
     "name": "stdout",
     "output_type": "stream",
     "text": [
      "  % Total    % Received % Xferd  Average Speed   Time    Time     Time  Current\n",
      "                                 Dload  Upload   Total   Spent    Left  Speed\n",
      "100  7852  100  7852    0     0  72100      0 --:--:-- --:--:-- --:--:-- 72703\n"
     ]
    }
   ],
   "source": [
    "!curl https://raw.githubusercontent.com/fedhere/PUI2018_fb55/master/HW9_fb55/World%20firearms%20murders%20and%20ownership%20-%20Sheet%201.csv > murdfire.csv"
   ]
  },
  {
   "cell_type": "code",
   "execution_count": 33,
   "metadata": {},
   "outputs": [
    {
     "name": "stdout",
     "output_type": "stream",
     "text": [
      "PUIdata /nfshome/mbh329/PUIdata\n"
     ]
    }
   ],
   "source": [
    "print(\"PUIdata\", os.getenv(\"PUIDATA\"))"
   ]
  },
  {
   "cell_type": "code",
   "execution_count": 34,
   "metadata": {},
   "outputs": [],
   "source": [
    "!mv murdfire.csv $PUIDATA"
   ]
  },
  {
   "cell_type": "markdown",
   "metadata": {},
   "source": [
    "# Getting  Country and homicide Data"
   ]
  },
  {
   "cell_type": "code",
   "execution_count": 35,
   "metadata": {},
   "outputs": [],
   "source": [
    "countryhom_df = pd.read_csv('%s/murdfire.csv'%os.getenv(\"PUIDATA\"))"
   ]
  },
  {
   "cell_type": "code",
   "execution_count": 36,
   "metadata": {},
   "outputs": [
    {
     "data": {
      "text/html": [
       "<div>\n",
       "<table border=\"1\" class=\"dataframe\">\n",
       "  <thead>\n",
       "    <tr style=\"text-align: right;\">\n",
       "      <th></th>\n",
       "      <th>Country/Territory</th>\n",
       "      <th>ISO code</th>\n",
       "      <th>Source</th>\n",
       "      <th>% of homicides by firearm</th>\n",
       "      <th>Number of homicides by firearm</th>\n",
       "      <th>Homicide by firearm rate per 100,000 pop</th>\n",
       "      <th>Rank by rate of ownership</th>\n",
       "      <th>Average firearms per 100 people</th>\n",
       "      <th>Average total all civilian firearms</th>\n",
       "    </tr>\n",
       "  </thead>\n",
       "  <tbody>\n",
       "    <tr>\n",
       "      <th>0</th>\n",
       "      <td>Albania</td>\n",
       "      <td>AL</td>\n",
       "      <td>CTS</td>\n",
       "      <td>65.9</td>\n",
       "      <td>56.0</td>\n",
       "      <td>1.76</td>\n",
       "      <td>70.0</td>\n",
       "      <td>8.6</td>\n",
       "      <td>270000.0</td>\n",
       "    </tr>\n",
       "    <tr>\n",
       "      <th>1</th>\n",
       "      <td>Algeria</td>\n",
       "      <td>DZ</td>\n",
       "      <td>CTS</td>\n",
       "      <td>4.8</td>\n",
       "      <td>20.0</td>\n",
       "      <td>0.06</td>\n",
       "      <td>78.0</td>\n",
       "      <td>7.6</td>\n",
       "      <td>1900000.0</td>\n",
       "    </tr>\n",
       "    <tr>\n",
       "      <th>2</th>\n",
       "      <td>Angola</td>\n",
       "      <td>AO</td>\n",
       "      <td>NaN</td>\n",
       "      <td>NaN</td>\n",
       "      <td>NaN</td>\n",
       "      <td>NaN</td>\n",
       "      <td>34.0</td>\n",
       "      <td>17.3</td>\n",
       "      <td>2800000.0</td>\n",
       "    </tr>\n",
       "    <tr>\n",
       "      <th>3</th>\n",
       "      <td>Anguilla</td>\n",
       "      <td>AI</td>\n",
       "      <td>WHO-MDB</td>\n",
       "      <td>24.0</td>\n",
       "      <td>1.0</td>\n",
       "      <td>7.14</td>\n",
       "      <td>NaN</td>\n",
       "      <td>NaN</td>\n",
       "      <td>NaN</td>\n",
       "    </tr>\n",
       "    <tr>\n",
       "      <th>4</th>\n",
       "      <td>Argentina</td>\n",
       "      <td>AR</td>\n",
       "      <td>Ministry of Justice</td>\n",
       "      <td>52.0</td>\n",
       "      <td>1198.0</td>\n",
       "      <td>3.02</td>\n",
       "      <td>62.0</td>\n",
       "      <td>10.2</td>\n",
       "      <td>3950000.0</td>\n",
       "    </tr>\n",
       "  </tbody>\n",
       "</table>\n",
       "</div>"
      ],
      "text/plain": [
       "  Country/Territory ISO code               Source  % of homicides by firearm  \\\n",
       "0           Albania       AL                  CTS                       65.9   \n",
       "1           Algeria       DZ                  CTS                        4.8   \n",
       "2            Angola       AO                  NaN                        NaN   \n",
       "3          Anguilla       AI              WHO-MDB                       24.0   \n",
       "4         Argentina       AR  Ministry of Justice                       52.0   \n",
       "\n",
       "   Number of homicides by firearm  Homicide by firearm rate per 100,000 pop  \\\n",
       "0                            56.0                                      1.76   \n",
       "1                            20.0                                      0.06   \n",
       "2                             NaN                                       NaN   \n",
       "3                             1.0                                      7.14   \n",
       "4                          1198.0                                      3.02   \n",
       "\n",
       "   Rank by rate of ownership  Average firearms per 100 people  \\\n",
       "0                       70.0                              8.6   \n",
       "1                       78.0                              7.6   \n",
       "2                       34.0                             17.3   \n",
       "3                        NaN                              NaN   \n",
       "4                       62.0                             10.2   \n",
       "\n",
       "   Average total all civilian firearms  \n",
       "0                             270000.0  \n",
       "1                            1900000.0  \n",
       "2                            2800000.0  \n",
       "3                                  NaN  \n",
       "4                            3950000.0  "
      ]
     },
     "execution_count": 36,
     "metadata": {},
     "output_type": "execute_result"
    }
   ],
   "source": [
    "countryhom_df.head()"
   ]
  },
  {
   "cell_type": "code",
   "execution_count": 37,
   "metadata": {},
   "outputs": [
    {
     "data": {
      "text/plain": [
       "Index(['Country/Territory', 'ISO code', 'Source', '% of homicides by firearm',\n",
       "       'Number of homicides by firearm',\n",
       "       'Homicide by firearm rate per 100,000 pop', 'Rank by rate of ownership',\n",
       "       'Average firearms per 100 people',\n",
       "       'Average total all civilian firearms'],\n",
       "      dtype='object')"
      ]
     },
     "execution_count": 37,
     "metadata": {},
     "output_type": "execute_result"
    }
   ],
   "source": [
    "countryhom_df.columns"
   ]
  },
  {
   "cell_type": "code",
   "execution_count": 38,
   "metadata": {},
   "outputs": [],
   "source": [
    "countryhom1_df = countryhom_df.drop(['ISO code', 'Source', '% of homicides by firearm',\n",
    "       'Homicide by firearm rate per 100,000 pop', 'Average firearms per 100 people', 'Rank by rate of ownership',\n",
    "       'Average total all civilian firearms'],\n",
    "      axis=1)\n",
    "\n",
    "# kept 'Country/Territory', 'Number of homicides by firearm', '"
   ]
  },
  {
   "cell_type": "markdown",
   "metadata": {},
   "source": [
    "# Getting GUNS and Number of Mass shootings DATA"
   ]
  },
  {
   "cell_type": "code",
   "execution_count": null,
   "metadata": {},
   "outputs": [],
   "source": []
  },
  {
   "cell_type": "code",
   "execution_count": 39,
   "metadata": {},
   "outputs": [],
   "source": [
    "gunmass_df = pd.read_csv('%s/murdfire1.csv'%os.getenv(\"PUIDATA\"))"
   ]
  },
  {
   "cell_type": "code",
   "execution_count": 40,
   "metadata": {},
   "outputs": [
    {
     "data": {
      "text/html": [
       "<div>\n",
       "<table border=\"1\" class=\"dataframe\">\n",
       "  <thead>\n",
       "    <tr style=\"text-align: right;\">\n",
       "      <th></th>\n",
       "      <th>Country</th>\n",
       "      <th>Guns per 100 inhabitants</th>\n",
       "      <th>Number of mass shootings (1983-2013)</th>\n",
       "    </tr>\n",
       "  </thead>\n",
       "  <tbody>\n",
       "    <tr>\n",
       "      <th>0</th>\n",
       "      <td>Australia</td>\n",
       "      <td>15.0</td>\n",
       "      <td>4</td>\n",
       "    </tr>\n",
       "    <tr>\n",
       "      <th>1</th>\n",
       "      <td>Austria</td>\n",
       "      <td>30.4</td>\n",
       "      <td>1</td>\n",
       "    </tr>\n",
       "    <tr>\n",
       "      <th>2</th>\n",
       "      <td>Belgium</td>\n",
       "      <td>17.2</td>\n",
       "      <td>2</td>\n",
       "    </tr>\n",
       "    <tr>\n",
       "      <th>3</th>\n",
       "      <td>Canada</td>\n",
       "      <td>30.8</td>\n",
       "      <td>4</td>\n",
       "    </tr>\n",
       "    <tr>\n",
       "      <th>4</th>\n",
       "      <td>Denmark</td>\n",
       "      <td>12.0</td>\n",
       "      <td>0</td>\n",
       "    </tr>\n",
       "  </tbody>\n",
       "</table>\n",
       "</div>"
      ],
      "text/plain": [
       "     Country  Guns per 100 inhabitants  Number of mass shootings (1983-2013)\n",
       "0  Australia                      15.0                                     4\n",
       "1    Austria                      30.4                                     1\n",
       "2    Belgium                      17.2                                     2\n",
       "3     Canada                      30.8                                     4\n",
       "4    Denmark                      12.0                                     0"
      ]
     },
     "execution_count": 40,
     "metadata": {},
     "output_type": "execute_result"
    }
   ],
   "source": [
    "gunmass_df.head()"
   ]
  },
  {
   "cell_type": "markdown",
   "metadata": {},
   "source": [
    "# Merge Mass shootings and firearms df "
   ]
  },
  {
   "cell_type": "code",
   "execution_count": 41,
   "metadata": {},
   "outputs": [
    {
     "data": {
      "text/html": [
       "<div>\n",
       "<table border=\"1\" class=\"dataframe\">\n",
       "  <thead>\n",
       "    <tr style=\"text-align: right;\">\n",
       "      <th></th>\n",
       "      <th>Country/Territory</th>\n",
       "      <th>Number of homicides by firearm</th>\n",
       "      <th>Guns per 100 inhabitants</th>\n",
       "      <th>Number of mass shootings (1983-2013)</th>\n",
       "    </tr>\n",
       "  </thead>\n",
       "  <tbody>\n",
       "    <tr>\n",
       "      <th>0</th>\n",
       "      <td>Australia</td>\n",
       "      <td>30.0</td>\n",
       "      <td>15.0</td>\n",
       "      <td>4</td>\n",
       "    </tr>\n",
       "    <tr>\n",
       "      <th>1</th>\n",
       "      <td>Austria</td>\n",
       "      <td>18.0</td>\n",
       "      <td>30.4</td>\n",
       "      <td>1</td>\n",
       "    </tr>\n",
       "    <tr>\n",
       "      <th>2</th>\n",
       "      <td>Belgium</td>\n",
       "      <td>70.0</td>\n",
       "      <td>17.2</td>\n",
       "      <td>2</td>\n",
       "    </tr>\n",
       "    <tr>\n",
       "      <th>3</th>\n",
       "      <td>Canada</td>\n",
       "      <td>173.0</td>\n",
       "      <td>30.8</td>\n",
       "      <td>4</td>\n",
       "    </tr>\n",
       "    <tr>\n",
       "      <th>4</th>\n",
       "      <td>Denmark</td>\n",
       "      <td>15.0</td>\n",
       "      <td>12.0</td>\n",
       "      <td>0</td>\n",
       "    </tr>\n",
       "    <tr>\n",
       "      <th>5</th>\n",
       "      <td>Finland</td>\n",
       "      <td>24.0</td>\n",
       "      <td>45.3</td>\n",
       "      <td>2</td>\n",
       "    </tr>\n",
       "    <tr>\n",
       "      <th>6</th>\n",
       "      <td>France</td>\n",
       "      <td>35.0</td>\n",
       "      <td>31.2</td>\n",
       "      <td>6</td>\n",
       "    </tr>\n",
       "    <tr>\n",
       "      <th>7</th>\n",
       "      <td>Germany</td>\n",
       "      <td>158.0</td>\n",
       "      <td>30.3</td>\n",
       "      <td>7</td>\n",
       "    </tr>\n",
       "    <tr>\n",
       "      <th>8</th>\n",
       "      <td>Greece</td>\n",
       "      <td>29.0</td>\n",
       "      <td>22.5</td>\n",
       "      <td>0</td>\n",
       "    </tr>\n",
       "    <tr>\n",
       "      <th>9</th>\n",
       "      <td>Hungary</td>\n",
       "      <td>7.0</td>\n",
       "      <td>5.5</td>\n",
       "      <td>0</td>\n",
       "    </tr>\n",
       "    <tr>\n",
       "      <th>10</th>\n",
       "      <td>Iceland</td>\n",
       "      <td>0.0</td>\n",
       "      <td>30.3</td>\n",
       "      <td>0</td>\n",
       "    </tr>\n",
       "    <tr>\n",
       "      <th>11</th>\n",
       "      <td>Ireland</td>\n",
       "      <td>21.0</td>\n",
       "      <td>8.6</td>\n",
       "      <td>0</td>\n",
       "    </tr>\n",
       "    <tr>\n",
       "      <th>12</th>\n",
       "      <td>Italy</td>\n",
       "      <td>417.0</td>\n",
       "      <td>11.9</td>\n",
       "      <td>0</td>\n",
       "    </tr>\n",
       "    <tr>\n",
       "      <th>13</th>\n",
       "      <td>Japan</td>\n",
       "      <td>11.0</td>\n",
       "      <td>0.6</td>\n",
       "      <td>0</td>\n",
       "    </tr>\n",
       "    <tr>\n",
       "      <th>14</th>\n",
       "      <td>Luxembourg</td>\n",
       "      <td>3.0</td>\n",
       "      <td>15.3</td>\n",
       "      <td>0</td>\n",
       "    </tr>\n",
       "    <tr>\n",
       "      <th>15</th>\n",
       "      <td>New Zealand</td>\n",
       "      <td>7.0</td>\n",
       "      <td>22.6</td>\n",
       "      <td>3</td>\n",
       "    </tr>\n",
       "    <tr>\n",
       "      <th>16</th>\n",
       "      <td>Norway</td>\n",
       "      <td>2.0</td>\n",
       "      <td>31.3</td>\n",
       "      <td>1</td>\n",
       "    </tr>\n",
       "    <tr>\n",
       "      <th>17</th>\n",
       "      <td>Poland</td>\n",
       "      <td>35.0</td>\n",
       "      <td>1.3</td>\n",
       "      <td>0</td>\n",
       "    </tr>\n",
       "    <tr>\n",
       "      <th>18</th>\n",
       "      <td>Portugal</td>\n",
       "      <td>44.0</td>\n",
       "      <td>8.5</td>\n",
       "      <td>1</td>\n",
       "    </tr>\n",
       "    <tr>\n",
       "      <th>19</th>\n",
       "      <td>Spain</td>\n",
       "      <td>90.0</td>\n",
       "      <td>10.4</td>\n",
       "      <td>1</td>\n",
       "    </tr>\n",
       "    <tr>\n",
       "      <th>20</th>\n",
       "      <td>Sweden</td>\n",
       "      <td>37.0</td>\n",
       "      <td>31.6</td>\n",
       "      <td>2</td>\n",
       "    </tr>\n",
       "    <tr>\n",
       "      <th>21</th>\n",
       "      <td>Switzerland</td>\n",
       "      <td>57.0</td>\n",
       "      <td>45.7</td>\n",
       "      <td>2</td>\n",
       "    </tr>\n",
       "    <tr>\n",
       "      <th>22</th>\n",
       "      <td>United States</td>\n",
       "      <td>9146.0</td>\n",
       "      <td>88.8</td>\n",
       "      <td>78</td>\n",
       "    </tr>\n",
       "  </tbody>\n",
       "</table>\n",
       "</div>"
      ],
      "text/plain": [
       "   Country/Territory  Number of homicides by firearm  \\\n",
       "0          Australia                            30.0   \n",
       "1            Austria                            18.0   \n",
       "2            Belgium                            70.0   \n",
       "3             Canada                           173.0   \n",
       "4            Denmark                            15.0   \n",
       "5            Finland                            24.0   \n",
       "6             France                            35.0   \n",
       "7            Germany                           158.0   \n",
       "8             Greece                            29.0   \n",
       "9            Hungary                             7.0   \n",
       "10           Iceland                             0.0   \n",
       "11           Ireland                            21.0   \n",
       "12             Italy                           417.0   \n",
       "13             Japan                            11.0   \n",
       "14        Luxembourg                             3.0   \n",
       "15       New Zealand                             7.0   \n",
       "16            Norway                             2.0   \n",
       "17            Poland                            35.0   \n",
       "18          Portugal                            44.0   \n",
       "19             Spain                            90.0   \n",
       "20            Sweden                            37.0   \n",
       "21       Switzerland                            57.0   \n",
       "22     United States                          9146.0   \n",
       "\n",
       "    Guns per 100 inhabitants  Number of mass shootings (1983-2013)  \n",
       "0                       15.0                                     4  \n",
       "1                       30.4                                     1  \n",
       "2                       17.2                                     2  \n",
       "3                       30.8                                     4  \n",
       "4                       12.0                                     0  \n",
       "5                       45.3                                     2  \n",
       "6                       31.2                                     6  \n",
       "7                       30.3                                     7  \n",
       "8                       22.5                                     0  \n",
       "9                        5.5                                     0  \n",
       "10                      30.3                                     0  \n",
       "11                       8.6                                     0  \n",
       "12                      11.9                                     0  \n",
       "13                       0.6                                     0  \n",
       "14                      15.3                                     0  \n",
       "15                      22.6                                     3  \n",
       "16                      31.3                                     1  \n",
       "17                       1.3                                     0  \n",
       "18                       8.5                                     1  \n",
       "19                      10.4                                     1  \n",
       "20                      31.6                                     2  \n",
       "21                      45.7                                     2  \n",
       "22                      88.8                                    78  "
      ]
     },
     "execution_count": 41,
     "metadata": {},
     "output_type": "execute_result"
    }
   ],
   "source": [
    "\n",
    "gunmerge_df = countryhom1_df.merge(gunmass_df, right_on=\"Country\", left_on=\"Country/Territory\")\n",
    "gunmerge_df.drop(['Country'], axis=1, inplace=True) #drop country \n",
    "gunmerge_df"
   ]
  },
  {
   "cell_type": "markdown",
   "metadata": {},
   "source": [
    "# Getting Population Data"
   ]
  },
  {
   "cell_type": "code",
   "execution_count": 42,
   "metadata": {},
   "outputs": [],
   "source": [
    "wbpop_df = pd.read_excel('%s/API_SP.POP.TOTL_DS2_en_excel_v2_10224790.xls'%os.getenv(\"PUIDATA\"), \n",
    "                        skiprows=3)"
   ]
  },
  {
   "cell_type": "code",
   "execution_count": 43,
   "metadata": {},
   "outputs": [
    {
     "data": {
      "text/html": [
       "<div>\n",
       "<table border=\"1\" class=\"dataframe\">\n",
       "  <thead>\n",
       "    <tr style=\"text-align: right;\">\n",
       "      <th></th>\n",
       "      <th>Country Name</th>\n",
       "      <th>2017</th>\n",
       "    </tr>\n",
       "  </thead>\n",
       "  <tbody>\n",
       "    <tr>\n",
       "      <th>0</th>\n",
       "      <td>Aruba</td>\n",
       "      <td>105264.0</td>\n",
       "    </tr>\n",
       "    <tr>\n",
       "      <th>1</th>\n",
       "      <td>Afghanistan</td>\n",
       "      <td>35530081.0</td>\n",
       "    </tr>\n",
       "    <tr>\n",
       "      <th>2</th>\n",
       "      <td>Angola</td>\n",
       "      <td>29784193.0</td>\n",
       "    </tr>\n",
       "    <tr>\n",
       "      <th>3</th>\n",
       "      <td>Albania</td>\n",
       "      <td>2873457.0</td>\n",
       "    </tr>\n",
       "    <tr>\n",
       "      <th>4</th>\n",
       "      <td>Andorra</td>\n",
       "      <td>76965.0</td>\n",
       "    </tr>\n",
       "  </tbody>\n",
       "</table>\n",
       "</div>"
      ],
      "text/plain": [
       "  Country Name        2017\n",
       "0        Aruba    105264.0\n",
       "1  Afghanistan  35530081.0\n",
       "2       Angola  29784193.0\n",
       "3      Albania   2873457.0\n",
       "4      Andorra     76965.0"
      ]
     },
     "execution_count": 43,
     "metadata": {},
     "output_type": "execute_result"
    }
   ],
   "source": [
    "wbpop_df = wbpop_df[[\"Country Name\", \"2017\"]]\n",
    "wbpop_df.head()\n",
    "#wbpop.rename(index)\n",
    "#wbpop_df.drop([0,1])\n",
    "#dbpop.set-index()"
   ]
  },
  {
   "cell_type": "code",
   "execution_count": 44,
   "metadata": {},
   "outputs": [],
   "source": [
    "wbgdp_df = pd.read_excel('%s/API_NY.GDP.MKTP.CD_DS2_en_excel_v2_10224715.xls'%os.getenv(\"PUIDATA\"), \n",
    "                        skiprows=3) "
   ]
  },
  {
   "cell_type": "markdown",
   "metadata": {},
   "source": [
    "# Getting GDP Data"
   ]
  },
  {
   "cell_type": "code",
   "execution_count": 45,
   "metadata": {},
   "outputs": [
    {
     "data": {
      "text/html": [
       "<div>\n",
       "<table border=\"1\" class=\"dataframe\">\n",
       "  <thead>\n",
       "    <tr style=\"text-align: right;\">\n",
       "      <th></th>\n",
       "      <th>Country Name</th>\n",
       "      <th>2017</th>\n",
       "    </tr>\n",
       "  </thead>\n",
       "  <tbody>\n",
       "    <tr>\n",
       "      <th>0</th>\n",
       "      <td>Aruba</td>\n",
       "      <td>NaN</td>\n",
       "    </tr>\n",
       "    <tr>\n",
       "      <th>1</th>\n",
       "      <td>Afghanistan</td>\n",
       "      <td>2.081530e+10</td>\n",
       "    </tr>\n",
       "    <tr>\n",
       "      <th>2</th>\n",
       "      <td>Angola</td>\n",
       "      <td>1.242094e+11</td>\n",
       "    </tr>\n",
       "    <tr>\n",
       "      <th>3</th>\n",
       "      <td>Albania</td>\n",
       "      <td>1.303935e+10</td>\n",
       "    </tr>\n",
       "    <tr>\n",
       "      <th>4</th>\n",
       "      <td>Andorra</td>\n",
       "      <td>3.012914e+09</td>\n",
       "    </tr>\n",
       "  </tbody>\n",
       "</table>\n",
       "</div>"
      ],
      "text/plain": [
       "  Country Name          2017\n",
       "0        Aruba           NaN\n",
       "1  Afghanistan  2.081530e+10\n",
       "2       Angola  1.242094e+11\n",
       "3      Albania  1.303935e+10\n",
       "4      Andorra  3.012914e+09"
      ]
     },
     "execution_count": 45,
     "metadata": {},
     "output_type": "execute_result"
    }
   ],
   "source": [
    "wbgdp_df = wbgdp_df[[\"Country Name\", \"2017\"]]\n",
    "wbgdp_df.head()\n"
   ]
  },
  {
   "cell_type": "code",
   "execution_count": 46,
   "metadata": {},
   "outputs": [],
   "source": [
    "wbmerge_df = wbpop_df.merge(wbgdp_df, right_on=\"Country Name\", left_on=\"Country Name\") #merge gdp and pop df"
   ]
  },
  {
   "cell_type": "code",
   "execution_count": 47,
   "metadata": {},
   "outputs": [],
   "source": [
    "wbmerge_df.rename(columns={'2017_x': 'pop', '2017_y': 'gdp'}, inplace=True)"
   ]
  },
  {
   "cell_type": "code",
   "execution_count": 48,
   "metadata": {},
   "outputs": [
    {
     "data": {
      "text/html": [
       "<div>\n",
       "<table border=\"1\" class=\"dataframe\">\n",
       "  <thead>\n",
       "    <tr style=\"text-align: right;\">\n",
       "      <th></th>\n",
       "      <th>Country Name</th>\n",
       "      <th>pop</th>\n",
       "      <th>gdp</th>\n",
       "    </tr>\n",
       "  </thead>\n",
       "  <tbody>\n",
       "    <tr>\n",
       "      <th>0</th>\n",
       "      <td>Aruba</td>\n",
       "      <td>1.052640e+05</td>\n",
       "      <td>NaN</td>\n",
       "    </tr>\n",
       "    <tr>\n",
       "      <th>1</th>\n",
       "      <td>Afghanistan</td>\n",
       "      <td>3.553008e+07</td>\n",
       "      <td>2.081530e+10</td>\n",
       "    </tr>\n",
       "    <tr>\n",
       "      <th>2</th>\n",
       "      <td>Angola</td>\n",
       "      <td>2.978419e+07</td>\n",
       "      <td>1.242094e+11</td>\n",
       "    </tr>\n",
       "    <tr>\n",
       "      <th>3</th>\n",
       "      <td>Albania</td>\n",
       "      <td>2.873457e+06</td>\n",
       "      <td>1.303935e+10</td>\n",
       "    </tr>\n",
       "    <tr>\n",
       "      <th>4</th>\n",
       "      <td>Andorra</td>\n",
       "      <td>7.696500e+04</td>\n",
       "      <td>3.012914e+09</td>\n",
       "    </tr>\n",
       "    <tr>\n",
       "      <th>5</th>\n",
       "      <td>Arab World</td>\n",
       "      <td>4.144919e+08</td>\n",
       "      <td>2.591047e+12</td>\n",
       "    </tr>\n",
       "    <tr>\n",
       "      <th>6</th>\n",
       "      <td>United Arab Emirates</td>\n",
       "      <td>9.400145e+06</td>\n",
       "      <td>3.825751e+11</td>\n",
       "    </tr>\n",
       "    <tr>\n",
       "      <th>7</th>\n",
       "      <td>Argentina</td>\n",
       "      <td>4.427104e+07</td>\n",
       "      <td>6.375904e+11</td>\n",
       "    </tr>\n",
       "    <tr>\n",
       "      <th>8</th>\n",
       "      <td>Armenia</td>\n",
       "      <td>2.930450e+06</td>\n",
       "      <td>1.153659e+10</td>\n",
       "    </tr>\n",
       "    <tr>\n",
       "      <th>9</th>\n",
       "      <td>American Samoa</td>\n",
       "      <td>5.564100e+04</td>\n",
       "      <td>NaN</td>\n",
       "    </tr>\n",
       "    <tr>\n",
       "      <th>10</th>\n",
       "      <td>Antigua and Barbuda</td>\n",
       "      <td>1.020120e+05</td>\n",
       "      <td>1.532398e+09</td>\n",
       "    </tr>\n",
       "    <tr>\n",
       "      <th>11</th>\n",
       "      <td>Australia</td>\n",
       "      <td>2.459893e+07</td>\n",
       "      <td>1.323421e+12</td>\n",
       "    </tr>\n",
       "    <tr>\n",
       "      <th>12</th>\n",
       "      <td>Austria</td>\n",
       "      <td>8.809212e+06</td>\n",
       "      <td>4.165957e+11</td>\n",
       "    </tr>\n",
       "    <tr>\n",
       "      <th>13</th>\n",
       "      <td>Azerbaijan</td>\n",
       "      <td>9.862429e+06</td>\n",
       "      <td>4.074779e+10</td>\n",
       "    </tr>\n",
       "    <tr>\n",
       "      <th>14</th>\n",
       "      <td>Burundi</td>\n",
       "      <td>1.086424e+07</td>\n",
       "      <td>3.477502e+09</td>\n",
       "    </tr>\n",
       "    <tr>\n",
       "      <th>15</th>\n",
       "      <td>Belgium</td>\n",
       "      <td>1.137207e+07</td>\n",
       "      <td>4.926813e+11</td>\n",
       "    </tr>\n",
       "    <tr>\n",
       "      <th>16</th>\n",
       "      <td>Benin</td>\n",
       "      <td>1.117569e+07</td>\n",
       "      <td>9.273558e+09</td>\n",
       "    </tr>\n",
       "    <tr>\n",
       "      <th>17</th>\n",
       "      <td>Burkina Faso</td>\n",
       "      <td>1.919338e+07</td>\n",
       "      <td>1.287311e+10</td>\n",
       "    </tr>\n",
       "    <tr>\n",
       "      <th>18</th>\n",
       "      <td>Bangladesh</td>\n",
       "      <td>1.646698e+08</td>\n",
       "      <td>2.497239e+11</td>\n",
       "    </tr>\n",
       "    <tr>\n",
       "      <th>19</th>\n",
       "      <td>Bulgaria</td>\n",
       "      <td>7.075991e+06</td>\n",
       "      <td>5.683152e+10</td>\n",
       "    </tr>\n",
       "    <tr>\n",
       "      <th>20</th>\n",
       "      <td>Bahrain</td>\n",
       "      <td>1.492584e+06</td>\n",
       "      <td>3.530713e+10</td>\n",
       "    </tr>\n",
       "    <tr>\n",
       "      <th>21</th>\n",
       "      <td>Bahamas, The</td>\n",
       "      <td>3.953610e+05</td>\n",
       "      <td>1.216210e+10</td>\n",
       "    </tr>\n",
       "    <tr>\n",
       "      <th>22</th>\n",
       "      <td>Bosnia and Herzegovina</td>\n",
       "      <td>3.507017e+06</td>\n",
       "      <td>1.816858e+10</td>\n",
       "    </tr>\n",
       "    <tr>\n",
       "      <th>23</th>\n",
       "      <td>Belarus</td>\n",
       "      <td>9.507875e+06</td>\n",
       "      <td>5.444237e+10</td>\n",
       "    </tr>\n",
       "    <tr>\n",
       "      <th>24</th>\n",
       "      <td>Belize</td>\n",
       "      <td>3.746810e+05</td>\n",
       "      <td>1.838000e+09</td>\n",
       "    </tr>\n",
       "    <tr>\n",
       "      <th>25</th>\n",
       "      <td>Bermuda</td>\n",
       "      <td>6.544100e+04</td>\n",
       "      <td>NaN</td>\n",
       "    </tr>\n",
       "    <tr>\n",
       "      <th>26</th>\n",
       "      <td>Bolivia</td>\n",
       "      <td>1.105160e+07</td>\n",
       "      <td>3.750864e+10</td>\n",
       "    </tr>\n",
       "    <tr>\n",
       "      <th>27</th>\n",
       "      <td>Brazil</td>\n",
       "      <td>2.092883e+08</td>\n",
       "      <td>2.055506e+12</td>\n",
       "    </tr>\n",
       "    <tr>\n",
       "      <th>28</th>\n",
       "      <td>Barbados</td>\n",
       "      <td>2.857190e+05</td>\n",
       "      <td>4.796846e+09</td>\n",
       "    </tr>\n",
       "    <tr>\n",
       "      <th>29</th>\n",
       "      <td>Brunei Darussalam</td>\n",
       "      <td>4.286970e+05</td>\n",
       "      <td>1.212809e+10</td>\n",
       "    </tr>\n",
       "    <tr>\n",
       "      <th>...</th>\n",
       "      <td>...</td>\n",
       "      <td>...</td>\n",
       "      <td>...</td>\n",
       "    </tr>\n",
       "    <tr>\n",
       "      <th>234</th>\n",
       "      <td>Latin America &amp; the Caribbean (IDA &amp; IBRD coun...</td>\n",
       "      <td>6.280598e+08</td>\n",
       "      <td>5.704713e+12</td>\n",
       "    </tr>\n",
       "    <tr>\n",
       "      <th>235</th>\n",
       "      <td>Timor-Leste</td>\n",
       "      <td>1.296311e+06</td>\n",
       "      <td>2.954621e+09</td>\n",
       "    </tr>\n",
       "    <tr>\n",
       "      <th>236</th>\n",
       "      <td>Middle East &amp; North Africa (IDA &amp; IBRD countries)</td>\n",
       "      <td>3.752170e+08</td>\n",
       "      <td>1.417010e+12</td>\n",
       "    </tr>\n",
       "    <tr>\n",
       "      <th>237</th>\n",
       "      <td>Tonga</td>\n",
       "      <td>1.080200e+05</td>\n",
       "      <td>4.260575e+08</td>\n",
       "    </tr>\n",
       "    <tr>\n",
       "      <th>238</th>\n",
       "      <td>South Asia (IDA &amp; IBRD)</td>\n",
       "      <td>1.788389e+09</td>\n",
       "      <td>3.291738e+12</td>\n",
       "    </tr>\n",
       "    <tr>\n",
       "      <th>239</th>\n",
       "      <td>Sub-Saharan Africa (IDA &amp; IBRD countries)</td>\n",
       "      <td>1.061108e+09</td>\n",
       "      <td>1.648714e+12</td>\n",
       "    </tr>\n",
       "    <tr>\n",
       "      <th>240</th>\n",
       "      <td>Trinidad and Tobago</td>\n",
       "      <td>1.369125e+06</td>\n",
       "      <td>2.210478e+10</td>\n",
       "    </tr>\n",
       "    <tr>\n",
       "      <th>241</th>\n",
       "      <td>Tunisia</td>\n",
       "      <td>1.153213e+07</td>\n",
       "      <td>4.025668e+10</td>\n",
       "    </tr>\n",
       "    <tr>\n",
       "      <th>242</th>\n",
       "      <td>Turkey</td>\n",
       "      <td>8.074502e+07</td>\n",
       "      <td>8.511024e+11</td>\n",
       "    </tr>\n",
       "    <tr>\n",
       "      <th>243</th>\n",
       "      <td>Tuvalu</td>\n",
       "      <td>1.119200e+04</td>\n",
       "      <td>3.973132e+07</td>\n",
       "    </tr>\n",
       "    <tr>\n",
       "      <th>244</th>\n",
       "      <td>Tanzania</td>\n",
       "      <td>5.731002e+07</td>\n",
       "      <td>5.209032e+10</td>\n",
       "    </tr>\n",
       "    <tr>\n",
       "      <th>245</th>\n",
       "      <td>Uganda</td>\n",
       "      <td>4.286296e+07</td>\n",
       "      <td>2.589106e+10</td>\n",
       "    </tr>\n",
       "    <tr>\n",
       "      <th>246</th>\n",
       "      <td>Ukraine</td>\n",
       "      <td>4.483116e+07</td>\n",
       "      <td>1.121542e+11</td>\n",
       "    </tr>\n",
       "    <tr>\n",
       "      <th>247</th>\n",
       "      <td>Upper middle income</td>\n",
       "      <td>2.576203e+09</td>\n",
       "      <td>2.216842e+13</td>\n",
       "    </tr>\n",
       "    <tr>\n",
       "      <th>248</th>\n",
       "      <td>Uruguay</td>\n",
       "      <td>3.456750e+06</td>\n",
       "      <td>5.615697e+10</td>\n",
       "    </tr>\n",
       "    <tr>\n",
       "      <th>249</th>\n",
       "      <td>United States</td>\n",
       "      <td>3.257192e+08</td>\n",
       "      <td>1.939060e+13</td>\n",
       "    </tr>\n",
       "    <tr>\n",
       "      <th>250</th>\n",
       "      <td>Uzbekistan</td>\n",
       "      <td>3.238720e+07</td>\n",
       "      <td>4.871769e+10</td>\n",
       "    </tr>\n",
       "    <tr>\n",
       "      <th>251</th>\n",
       "      <td>St. Vincent and the Grenadines</td>\n",
       "      <td>1.098970e+05</td>\n",
       "      <td>7.896296e+08</td>\n",
       "    </tr>\n",
       "    <tr>\n",
       "      <th>252</th>\n",
       "      <td>Venezuela, RB</td>\n",
       "      <td>3.197706e+07</td>\n",
       "      <td>NaN</td>\n",
       "    </tr>\n",
       "    <tr>\n",
       "      <th>253</th>\n",
       "      <td>British Virgin Islands</td>\n",
       "      <td>3.119600e+04</td>\n",
       "      <td>NaN</td>\n",
       "    </tr>\n",
       "    <tr>\n",
       "      <th>254</th>\n",
       "      <td>Virgin Islands (U.S.)</td>\n",
       "      <td>1.072680e+05</td>\n",
       "      <td>NaN</td>\n",
       "    </tr>\n",
       "    <tr>\n",
       "      <th>255</th>\n",
       "      <td>Vietnam</td>\n",
       "      <td>9.554080e+07</td>\n",
       "      <td>2.238640e+11</td>\n",
       "    </tr>\n",
       "    <tr>\n",
       "      <th>256</th>\n",
       "      <td>Vanuatu</td>\n",
       "      <td>2.762440e+05</td>\n",
       "      <td>8.628798e+08</td>\n",
       "    </tr>\n",
       "    <tr>\n",
       "      <th>257</th>\n",
       "      <td>World</td>\n",
       "      <td>7.530360e+09</td>\n",
       "      <td>8.068379e+13</td>\n",
       "    </tr>\n",
       "    <tr>\n",
       "      <th>258</th>\n",
       "      <td>Samoa</td>\n",
       "      <td>1.964400e+05</td>\n",
       "      <td>8.566265e+08</td>\n",
       "    </tr>\n",
       "    <tr>\n",
       "      <th>259</th>\n",
       "      <td>Kosovo</td>\n",
       "      <td>1.830700e+06</td>\n",
       "      <td>7.128691e+09</td>\n",
       "    </tr>\n",
       "    <tr>\n",
       "      <th>260</th>\n",
       "      <td>Yemen, Rep.</td>\n",
       "      <td>2.825042e+07</td>\n",
       "      <td>NaN</td>\n",
       "    </tr>\n",
       "    <tr>\n",
       "      <th>261</th>\n",
       "      <td>South Africa</td>\n",
       "      <td>5.671716e+07</td>\n",
       "      <td>3.494193e+11</td>\n",
       "    </tr>\n",
       "    <tr>\n",
       "      <th>262</th>\n",
       "      <td>Zambia</td>\n",
       "      <td>1.709413e+07</td>\n",
       "      <td>2.580867e+10</td>\n",
       "    </tr>\n",
       "    <tr>\n",
       "      <th>263</th>\n",
       "      <td>Zimbabwe</td>\n",
       "      <td>1.652990e+07</td>\n",
       "      <td>1.784582e+10</td>\n",
       "    </tr>\n",
       "  </tbody>\n",
       "</table>\n",
       "<p>264 rows × 3 columns</p>\n",
       "</div>"
      ],
      "text/plain": [
       "                                          Country Name           pop  \\\n",
       "0                                                Aruba  1.052640e+05   \n",
       "1                                          Afghanistan  3.553008e+07   \n",
       "2                                               Angola  2.978419e+07   \n",
       "3                                              Albania  2.873457e+06   \n",
       "4                                              Andorra  7.696500e+04   \n",
       "5                                           Arab World  4.144919e+08   \n",
       "6                                 United Arab Emirates  9.400145e+06   \n",
       "7                                            Argentina  4.427104e+07   \n",
       "8                                              Armenia  2.930450e+06   \n",
       "9                                       American Samoa  5.564100e+04   \n",
       "10                                 Antigua and Barbuda  1.020120e+05   \n",
       "11                                           Australia  2.459893e+07   \n",
       "12                                             Austria  8.809212e+06   \n",
       "13                                          Azerbaijan  9.862429e+06   \n",
       "14                                             Burundi  1.086424e+07   \n",
       "15                                             Belgium  1.137207e+07   \n",
       "16                                               Benin  1.117569e+07   \n",
       "17                                        Burkina Faso  1.919338e+07   \n",
       "18                                          Bangladesh  1.646698e+08   \n",
       "19                                            Bulgaria  7.075991e+06   \n",
       "20                                             Bahrain  1.492584e+06   \n",
       "21                                        Bahamas, The  3.953610e+05   \n",
       "22                              Bosnia and Herzegovina  3.507017e+06   \n",
       "23                                             Belarus  9.507875e+06   \n",
       "24                                              Belize  3.746810e+05   \n",
       "25                                             Bermuda  6.544100e+04   \n",
       "26                                             Bolivia  1.105160e+07   \n",
       "27                                              Brazil  2.092883e+08   \n",
       "28                                            Barbados  2.857190e+05   \n",
       "29                                   Brunei Darussalam  4.286970e+05   \n",
       "..                                                 ...           ...   \n",
       "234  Latin America & the Caribbean (IDA & IBRD coun...  6.280598e+08   \n",
       "235                                        Timor-Leste  1.296311e+06   \n",
       "236  Middle East & North Africa (IDA & IBRD countries)  3.752170e+08   \n",
       "237                                              Tonga  1.080200e+05   \n",
       "238                            South Asia (IDA & IBRD)  1.788389e+09   \n",
       "239          Sub-Saharan Africa (IDA & IBRD countries)  1.061108e+09   \n",
       "240                                Trinidad and Tobago  1.369125e+06   \n",
       "241                                            Tunisia  1.153213e+07   \n",
       "242                                             Turkey  8.074502e+07   \n",
       "243                                             Tuvalu  1.119200e+04   \n",
       "244                                           Tanzania  5.731002e+07   \n",
       "245                                             Uganda  4.286296e+07   \n",
       "246                                            Ukraine  4.483116e+07   \n",
       "247                                Upper middle income  2.576203e+09   \n",
       "248                                            Uruguay  3.456750e+06   \n",
       "249                                      United States  3.257192e+08   \n",
       "250                                         Uzbekistan  3.238720e+07   \n",
       "251                     St. Vincent and the Grenadines  1.098970e+05   \n",
       "252                                      Venezuela, RB  3.197706e+07   \n",
       "253                             British Virgin Islands  3.119600e+04   \n",
       "254                              Virgin Islands (U.S.)  1.072680e+05   \n",
       "255                                            Vietnam  9.554080e+07   \n",
       "256                                            Vanuatu  2.762440e+05   \n",
       "257                                              World  7.530360e+09   \n",
       "258                                              Samoa  1.964400e+05   \n",
       "259                                             Kosovo  1.830700e+06   \n",
       "260                                        Yemen, Rep.  2.825042e+07   \n",
       "261                                       South Africa  5.671716e+07   \n",
       "262                                             Zambia  1.709413e+07   \n",
       "263                                           Zimbabwe  1.652990e+07   \n",
       "\n",
       "              gdp  \n",
       "0             NaN  \n",
       "1    2.081530e+10  \n",
       "2    1.242094e+11  \n",
       "3    1.303935e+10  \n",
       "4    3.012914e+09  \n",
       "5    2.591047e+12  \n",
       "6    3.825751e+11  \n",
       "7    6.375904e+11  \n",
       "8    1.153659e+10  \n",
       "9             NaN  \n",
       "10   1.532398e+09  \n",
       "11   1.323421e+12  \n",
       "12   4.165957e+11  \n",
       "13   4.074779e+10  \n",
       "14   3.477502e+09  \n",
       "15   4.926813e+11  \n",
       "16   9.273558e+09  \n",
       "17   1.287311e+10  \n",
       "18   2.497239e+11  \n",
       "19   5.683152e+10  \n",
       "20   3.530713e+10  \n",
       "21   1.216210e+10  \n",
       "22   1.816858e+10  \n",
       "23   5.444237e+10  \n",
       "24   1.838000e+09  \n",
       "25            NaN  \n",
       "26   3.750864e+10  \n",
       "27   2.055506e+12  \n",
       "28   4.796846e+09  \n",
       "29   1.212809e+10  \n",
       "..            ...  \n",
       "234  5.704713e+12  \n",
       "235  2.954621e+09  \n",
       "236  1.417010e+12  \n",
       "237  4.260575e+08  \n",
       "238  3.291738e+12  \n",
       "239  1.648714e+12  \n",
       "240  2.210478e+10  \n",
       "241  4.025668e+10  \n",
       "242  8.511024e+11  \n",
       "243  3.973132e+07  \n",
       "244  5.209032e+10  \n",
       "245  2.589106e+10  \n",
       "246  1.121542e+11  \n",
       "247  2.216842e+13  \n",
       "248  5.615697e+10  \n",
       "249  1.939060e+13  \n",
       "250  4.871769e+10  \n",
       "251  7.896296e+08  \n",
       "252           NaN  \n",
       "253           NaN  \n",
       "254           NaN  \n",
       "255  2.238640e+11  \n",
       "256  8.628798e+08  \n",
       "257  8.068379e+13  \n",
       "258  8.566265e+08  \n",
       "259  7.128691e+09  \n",
       "260           NaN  \n",
       "261  3.494193e+11  \n",
       "262  2.580867e+10  \n",
       "263  1.784582e+10  \n",
       "\n",
       "[264 rows x 3 columns]"
      ]
     },
     "execution_count": 48,
     "metadata": {},
     "output_type": "execute_result"
    }
   ],
   "source": [
    "wbmerge_df"
   ]
  },
  {
   "cell_type": "markdown",
   "metadata": {},
   "source": [
    "# merging into one dataframe "
   ]
  },
  {
   "cell_type": "code",
   "execution_count": 64,
   "metadata": {},
   "outputs": [],
   "source": [
    "gunecon_df = wbmerge_df.merge(gunmerge_df, right_on='Country/Territory', left_on='Country Name')\n",
    "gunecon_df.rename(columns={'Number of mass shootings (1983-2013)': '# of mass shootings', 'Country Name': 'Country'}, inplace=True)"
   ]
  },
  {
   "cell_type": "code",
   "execution_count": 65,
   "metadata": {},
   "outputs": [
    {
     "data": {
      "text/html": [
       "<div>\n",
       "<table border=\"1\" class=\"dataframe\">\n",
       "  <thead>\n",
       "    <tr style=\"text-align: right;\">\n",
       "      <th></th>\n",
       "      <th>Country</th>\n",
       "      <th>pop</th>\n",
       "      <th>gdp</th>\n",
       "      <th>Country/Territory</th>\n",
       "      <th>Number of homicides by firearm</th>\n",
       "      <th>Guns per 100 inhabitants</th>\n",
       "      <th># of mass shootings</th>\n",
       "    </tr>\n",
       "  </thead>\n",
       "  <tbody>\n",
       "    <tr>\n",
       "      <th>0</th>\n",
       "      <td>Australia</td>\n",
       "      <td>24598933.0</td>\n",
       "      <td>1.323421e+12</td>\n",
       "      <td>Australia</td>\n",
       "      <td>30.0</td>\n",
       "      <td>15.0</td>\n",
       "      <td>4</td>\n",
       "    </tr>\n",
       "    <tr>\n",
       "      <th>1</th>\n",
       "      <td>Austria</td>\n",
       "      <td>8809212.0</td>\n",
       "      <td>4.165957e+11</td>\n",
       "      <td>Austria</td>\n",
       "      <td>18.0</td>\n",
       "      <td>30.4</td>\n",
       "      <td>1</td>\n",
       "    </tr>\n",
       "    <tr>\n",
       "      <th>2</th>\n",
       "      <td>Belgium</td>\n",
       "      <td>11372068.0</td>\n",
       "      <td>4.926813e+11</td>\n",
       "      <td>Belgium</td>\n",
       "      <td>70.0</td>\n",
       "      <td>17.2</td>\n",
       "      <td>2</td>\n",
       "    </tr>\n",
       "    <tr>\n",
       "      <th>3</th>\n",
       "      <td>Canada</td>\n",
       "      <td>36708083.0</td>\n",
       "      <td>1.653043e+12</td>\n",
       "      <td>Canada</td>\n",
       "      <td>173.0</td>\n",
       "      <td>30.8</td>\n",
       "      <td>4</td>\n",
       "    </tr>\n",
       "    <tr>\n",
       "      <th>4</th>\n",
       "      <td>Switzerland</td>\n",
       "      <td>8466017.0</td>\n",
       "      <td>6.788873e+11</td>\n",
       "      <td>Switzerland</td>\n",
       "      <td>57.0</td>\n",
       "      <td>45.7</td>\n",
       "      <td>2</td>\n",
       "    </tr>\n",
       "  </tbody>\n",
       "</table>\n",
       "</div>"
      ],
      "text/plain": [
       "       Country         pop           gdp Country/Territory  \\\n",
       "0    Australia  24598933.0  1.323421e+12         Australia   \n",
       "1      Austria   8809212.0  4.165957e+11           Austria   \n",
       "2      Belgium  11372068.0  4.926813e+11           Belgium   \n",
       "3       Canada  36708083.0  1.653043e+12            Canada   \n",
       "4  Switzerland   8466017.0  6.788873e+11       Switzerland   \n",
       "\n",
       "   Number of homicides by firearm  Guns per 100 inhabitants  \\\n",
       "0                            30.0                      15.0   \n",
       "1                            18.0                      30.4   \n",
       "2                            70.0                      17.2   \n",
       "3                           173.0                      30.8   \n",
       "4                            57.0                      45.7   \n",
       "\n",
       "   # of mass shootings  \n",
       "0                    4  \n",
       "1                    1  \n",
       "2                    2  \n",
       "3                    4  \n",
       "4                    2  "
      ]
     },
     "execution_count": 65,
     "metadata": {},
     "output_type": "execute_result"
    }
   ],
   "source": [
    "gunecon_df.head()"
   ]
  },
  {
   "cell_type": "markdown",
   "metadata": {},
   "source": [
    "# exploration\n",
    "# plot mass shooting vs gdp in absolute numbers, and per person. Show the errorbars (y errors)"
   ]
  },
  {
   "cell_type": "code",
   "execution_count": 66,
   "metadata": {},
   "outputs": [
    {
     "data": {
      "image/png": "[encoded data removed]",
      "text/plain": [
       "<matplotlib.figure.Figure at 0x7f66e0524048>"
      ]
     },
     "metadata": {},
     "output_type": "display_data"
    },
    {
     "name": "stdout",
     "output_type": "stream",
     "text": [
      "Number of mass shooting vs GDP, errors represent Poisson statistics.\n",
      "The datapoint to the top right of the plot is the USA, which has noth the highest GDP and the highest number of mass shootings\n"
     ]
    }
   ],
   "source": [
    "\n",
    "\n",
    "fig = pl.figure(figsize=(10,10)) \n",
    "ax = fig.add_subplot(111)\n",
    "\n",
    "scatter = ax.scatter(gunecon_df.gdp / 1e9, gunecon_df['# of mass shootings'])\n",
    "ax.errorbar(gunecon_df.gdp / 1e9, gunecon_df['# of mass shootings'], \n",
    "            yerr = np.sqrt(gunecon_df['# of mass shootings'] * 1.0), fmt = '.')\n",
    "ax.set_xlabel(\"GDP (in billions)\")\n",
    "ax.set_ylabel(\"Number of mass shooting per person\")\n",
    "ax.set_ylim()\n",
    "pl.show()\n",
    "print (\"Number of mass shooting vs GDP, \" + \n",
    "       \"errors represent Poisson statistics.\\n\" + \n",
    "       \"The datapoint to the top right of the plot is the USA, \" + \n",
    "       \"which has noth the highest GDP and the highest number of mass shootings\")\n",
    "\n",
    "\n",
    "#prof bianco code \n",
    "\n",
    "\n"
   ]
  },
  {
   "cell_type": "markdown",
   "metadata": {},
   "source": [
    "### plot the average number of civilian fire arms per person\n",
    "first without errors, then with errors. are there points that look like outliers?"
   ]
  },
  {
   "cell_type": "code",
   "execution_count": 67,
   "metadata": {},
   "outputs": [],
   "source": [
    "gunecon_df['shootingspp'] = gunecon_df[\"# of mass shootings\"] / gunecon_df['pop'] * 1e3 \n",
    "#code from bianco"
   ]
  },
  {
   "cell_type": "code",
   "execution_count": 68,
   "metadata": {},
   "outputs": [
    {
     "data": {
      "image/png": "[encoded data removed]",
      "text/plain": [
       "<matplotlib.figure.Figure at 0x7f66e048acf8>"
      ]
     },
     "metadata": {},
     "output_type": "display_data"
    },
    {
     "name": "stdout",
     "output_type": "stream",
     "text": [
      "\n"
     ]
    }
   ],
   "source": [
    "fig = pl.figure(figsize=(8,8)) \n",
    "ax = fig.add_subplot(111)\n",
    "\n",
    "\n",
    "scatter = ax.scatter(gunecon_df['Guns per 100 inhabitants'], gunecon_df['pop'] /1e8)\n",
    "\n",
    "\n",
    "#ax.errorbar(gunecon_df.gdp / 1e9, gunecon_df['# of mass shootings'], \n",
    "#            yerr = np.sqrt(gunecon_df['# of mass shootings'] * 1.0), fmt = '.')\n",
    "ax.set_xlabel(\"Civilian fire arms per 100 inhabitants\")\n",
    "ax.set_ylabel(\"population in 100,000,000\")\n",
    "ax.set_ylim()\n",
    "pl.show()\n",
    "print()\n"
   ]
  },
  {
   "cell_type": "code",
   "execution_count": 69,
   "metadata": {},
   "outputs": [
    {
     "data": {
      "image/png": "[encoded data removed]",
      "text/plain": [
       "<matplotlib.figure.Figure at 0x7f66e048db38>"
      ]
     },
     "metadata": {},
     "output_type": "display_data"
    },
    {
     "name": "stdout",
     "output_type": "stream",
     "text": [
      "\n"
     ]
    }
   ],
   "source": [
    "fig = pl.figure(figsize=(8,8)) \n",
    "ax = fig.add_subplot(111)\n",
    "\n",
    "#scatter = ax.scatter(gunecon_df['shootingspp'] * 1e3, gunecon_df['Guns per 100 inhabitants'])\n",
    "ax.errorbar(gunecon_df['Guns per 100 inhabitants'], gunecon_df['pop'] / 1e8, \n",
    "            yerr = np.sqrt(gunecon_df['Guns per 100 inhabitants'] * 1.0), fmt = '.')\n",
    "ax.set_xlabel(\"Civilian fire arms per 100 inhabitants\")\n",
    "ax.set_ylabel(\"population in 100,000,00\")\n",
    "ax.set_ylim()\n",
    "pl.show()\n",
    "print ( )"
   ]
  },
  {
   "cell_type": "markdown",
   "metadata": {},
   "source": [
    "Figure: The figure here is meant to show the error variance but I don't believe it is correct. This would mean that there is a huge variance in the data which I don't think would be acceptable for any study. Unsure how to mitigate this issue. "
   ]
  },
  {
   "cell_type": "code",
   "execution_count": 70,
   "metadata": {},
   "outputs": [
    {
     "data": {
      "text/plain": [
       "Text(0,0.5,'# of countries surveyed')"
      ]
     },
     "execution_count": 70,
     "metadata": {},
     "output_type": "execute_result"
    },
    {
     "data": {
      "text/plain": [
       "<matplotlib.figure.Figure at 0x7f66e05e9d30>"
      ]
     },
     "metadata": {},
     "output_type": "display_data"
    },
    {
     "data": {
      "image/png": "[encoded data removed]",
      "text/plain": [
       "<matplotlib.figure.Figure at 0x7f66e05c8518>"
      ]
     },
     "metadata": {},
     "output_type": "display_data"
    }
   ],
   "source": [
    "fig = pl.figure(figsize=(10,10))\n",
    "fig, ax = plt.subplots()\n",
    "ax.hist(gunecon_df['Number of homicides by firearm'] / gunecon_df['pop'] * 1000)\n",
    "ax.set_title('Histogram of Homicides by firearm per 1000 people')\n",
    "ax.set_xlabel('homicides by firearm per 1000 people');\n",
    "ax.set_ylabel('# of countries surveyed')\n",
    "\n",
    "\n"
   ]
  },
  {
   "cell_type": "markdown",
   "metadata": {},
   "source": [
    "figure 4: we see that the USA has a higher rate of homicides by firearm per 1000 people than every other country listed. This is consistent with the general view of americans and guns."
   ]
  },
  {
   "cell_type": "code",
   "execution_count": 76,
   "metadata": {},
   "outputs": [],
   "source": []
  },
  {
   "cell_type": "code",
   "execution_count": 86,
   "metadata": {},
   "outputs": [
    {
     "data": {
      "text/plain": [
       "Text(0,0.5,'GDP')"
      ]
     },
     "execution_count": 86,
     "metadata": {},
     "output_type": "execute_result"
    },
    {
     "data": {
      "text/plain": [
       "<matplotlib.figure.Figure at 0x7f66e04ebf60>"
      ]
     },
     "metadata": {},
     "output_type": "display_data"
    },
    {
     "data": {
      "image/png": "[encoded data removed]",
      "text/plain": [
       "<matplotlib.figure.Figure at 0x7f66e04990b8>"
      ]
     },
     "metadata": {},
     "output_type": "display_data"
    }
   ],
   "source": [
    "fig = pl.figure(figsize=(10,10))\n",
    "fig, ax = plt.subplots()\n",
    "ax.scatter(gunecon_df['Number of homicides by firearm'] / gunecon_df['pop'] * 1000, gunecon_df.gdp / 1e11,)\n",
    "ax.set_title('Scatter of Homicides by firearm per 1000 people vs country gdp')\n",
    "ax.set_xlabel('homicides by firearm per 1000 people');\n",
    "ax.set_ylabel('GDP')\n",
    "\n"
   ]
  },
  {
   "cell_type": "markdown",
   "metadata": {},
   "source": [
    "Figure: The outlier in this plot is very apparently the USA which has the highest GDP and also the highest rates of homicide by firearms. Countries have very low homicide rates relative to the USA."
   ]
  },
  {
   "cell_type": "markdown",
   "metadata": {},
   "source": [
    "# plot the number of homicides by fire arm against the number of civilian firearms. plot the US in a different color"
   ]
  },
  {
   "cell_type": "code",
   "execution_count": null,
   "metadata": {},
   "outputs": [],
   "source": []
  },
  {
   "cell_type": "code",
   "execution_count": 87,
   "metadata": {},
   "outputs": [
    {
     "data": {
      "image/png": "[encoded data removed]",
      "text/plain": [
       "<matplotlib.figure.Figure at 0x7f66e05c17b8>"
      ]
     },
     "metadata": {},
     "output_type": "display_data"
    },
    {
     "name": "stdout",
     "output_type": "stream",
     "text": [
      "\n"
     ]
    }
   ],
   "source": [
    "fig = pl.figure(figsize=(10,10)) \n",
    "ax = fig.add_subplot(111)\n",
    "\n",
    "scatter = ax.scatter(gunecon_df.gdp / 1e9, gunecon_df['Number of homicides by firearm'], gunecon_df['Guns per 100 inhabitants'],)\n",
    "ax.errorbar(gunecon_df.gdp / 1e9, gunecon_df['Number of homicides by firearm'], \n",
    "           yerr = np.sqrt(gunecon_df['Guns per 100 inhabitants'] * 1.0), fmt = '.')\n",
    "ax.set_xlabel(\"Country GDP\")\n",
    "ax.set_ylabel(\"homicides by firearm\")\n",
    "ax.set_ylim()\n",
    "pl.show()\n",
    "print()\n",
    "\n",
    "#x = (gunecon_df.gdp / 1e9, gunecon_df['Number of homicides by firearm'])\n",
    "#y = (gunecon_df['Guns per 100 inhabitants'])\n",
    "#ax.scatter(x[np.abs(y)<8000], y[np.abs(y)<8000], marker=\"s\", color=\"#2e91be\")\n",
    "#ax.scatter(x[np.abs(y)>=8000], y[np.abs(y)>=8000], marker=\"d\", color=\"#d46f9f\")\n"
   ]
  },
  {
   "cell_type": "code",
   "execution_count": 58,
   "metadata": {},
   "outputs": [
    {
     "data": {
      "image/png": "[encoded data removed]",
      "text/plain": [
       "<matplotlib.figure.Figure at 0x7f66e3d6e780>"
      ]
     },
     "metadata": {},
     "output_type": "display_data"
    }
   ],
   "source": [
    "fig = pl.figure(figsize=(10,10)) \n",
    "ax = fig.add_subplot(111)\n",
    "ax.errorbar(gunecon_df.gdp / 1e9, gunecon_df['Number of homicides by firearm'], \n",
    "        yerr = np.sqrt(gunecon_df['Guns per 100 inhabitants'] * 1.0), fmt = '.')\n",
    "ax.set_xlabel(\"Country GDP\")\n",
    "ax.set_ylabel(\"homicides by firearm\")\n",
    "ax.set_title('Country GDP vs homicides by country')\n",
    "ax.set_ylim()\n",
    "pl.show()\n"
   ]
  },
  {
   "cell_type": "markdown",
   "metadata": {},
   "source": [
    "Figure: This shows the Country GDP plotted against homicides by firearms. It shows that the USA is once again the outlier in the data set. You can see the USA in the far right corner of the graph."
   ]
  },
  {
   "cell_type": "markdown",
   "metadata": {},
   "source": [
    "# plot the number of mass shootings against the number of civilian firearms. plot the US in a different color"
   ]
  },
  {
   "cell_type": "code",
   "execution_count": 59,
   "metadata": {},
   "outputs": [
    {
     "data": {
      "text/plain": [
       "Index(['Country Name', 'pop', 'gdp', 'Country/Territory',\n",
       "       'Number of homicides by firearm', 'Guns per 100 inhabitants',\n",
       "       '# of mass shootings', 'shootingspp'],\n",
       "      dtype='object')"
      ]
     },
     "execution_count": 59,
     "metadata": {},
     "output_type": "execute_result"
    }
   ],
   "source": [
    "gunecon_df.columns"
   ]
  },
  {
   "cell_type": "code",
   "execution_count": 63,
   "metadata": {},
   "outputs": [
    {
     "data": {
      "image/png": "[encoded data removed]",
      "text/plain": [
       "<matplotlib.figure.Figure at 0x7f66e05c1ef0>"
      ]
     },
     "metadata": {},
     "output_type": "display_data"
    },
    {
     "name": "stdout",
     "output_type": "stream",
     "text": [
      "\n"
     ]
    }
   ],
   "source": [
    "fig = pl.figure(figsize=(10,10)) \n",
    "ax = fig.add_subplot(111)\n",
    "\n",
    "scatter = ax.scatter(gunecon_df[\"# of mass shootings\"] * 1e3, gunecon_df['Guns per 100 inhabitants'])\n",
    "#ax.errorbar(gunecon_df.gdp / 1e9, gunecon_df['Number of homicides by firearm'], \n",
    "          # yerr = np.sqrt(gunecon_df['Guns per 100 inhabitants'] * 1.0), fmt = '.')\n",
    "ax.set_xlabel(\" # of mass shootings\")\n",
    "ax.set_ylabel(\"Guns per 100 inhabitants\")\n",
    "ax.set_ylim()\n",
    "pl.show()\n",
    "print()"
   ]
  },
  {
   "cell_type": "markdown",
   "metadata": {},
   "source": [
    "Figure: Displays the # of mass shootings vs guns per 100 people. The data is more evenly distributed but the USA is an outlier; this plot shows that countries have more guns per 100 inhabitants but mass shootings remain low in those countries. The USA has a high rate of guns per 100 inhabitants AND a high rate of mass shootings."
   ]
  },
  {
   "cell_type": "code",
   "execution_count": null,
   "metadata": {},
   "outputs": [],
   "source": []
  },
  {
   "cell_type": "code",
   "execution_count": null,
   "metadata": {},
   "outputs": [],
   "source": []
  }
 ],
 "metadata": {
  "kernelspec": {
   "display_name": "PUI2016_Python3",
   "language": "python",
   "name": "pui2016_python3"
  },
  "language_info": {
   "codemirror_mode": {
    "name": "ipython",
    "version": 3
   },
   "file_extension": ".py",
   "mimetype": "text/x-python",
   "name": "python",
   "nbconvert_exporter": "python",
   "pygments_lexer": "ipython3",
   "version": "3.5.4"
  }
 },
 "nbformat": 4,
 "nbformat_minor": 2
}
