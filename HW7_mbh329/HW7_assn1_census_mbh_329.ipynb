{
 "cells": [
  {
   "cell_type": "code",
   "execution_count": 1,
   "metadata": {},
   "outputs": [],
   "source": [
    "import os #allows you to interface with underlying os system \n",
    "import urllib #allows you to work with URLs\n",
    "import pandas as pd #data structures and data analysis \n",
    "import numpy as np #multi dimensional arrays and matrices, big math \n",
    "import geopandas as gpd # works with geospatial data (geometrys)\n",
    "import matplotlib.pylab as plt #publication plotting for python \n",
    "%matplotlib inline \n",
    "import json #reading json files\n",
    "import io\n",
    "import requests\n",
    "import shapely\n",
    "from fiona.crs import from_epsg\n",
    "import pysal as ps"
   ]
  },
  {
   "cell_type": "code",
   "execution_count": 2,
   "metadata": {},
   "outputs": [
    {
     "name": "stdout",
     "output_type": "stream",
     "text": [
      "Archive:  file.gz\r\n",
      "  inflating: /nfshome/mbh329/PUIdata/geo_export_3c91fde7-b7c9-4534-88b2-2023b5b66495.dbf  \r\n",
      "  inflating: /nfshome/mbh329/PUIdata/geo_export_3c91fde7-b7c9-4534-88b2-2023b5b66495.shp  \r\n",
      "  inflating: /nfshome/mbh329/PUIdata/geo_export_3c91fde7-b7c9-4534-88b2-2023b5b66495.shx  \r\n",
      "  inflating: /nfshome/mbh329/PUIdata/geo_export_3c91fde7-b7c9-4534-88b2-2023b5b66495.prj  \r\n"
     ]
    }
   ],
   "source": [
    "urllib.request.urlretrieve(\"https://data.cityofnewyork.us/api/geospatial/cwiz-gcty?method=export&format=Shapefile\", 'file.gz')\n",
    "\n",
    "!unzip -u file.gz -d $PUIDATA\n",
    "\n",
    "stringall = !zipinfo -1 file.gz\n",
    "string = os.getenv(\"PUIDATA\")+ \"/\"+stringall[1] # [1] 4 files in the zip, remember index starts at 0 \n",
    "\n",
    "pumashp = gpd.GeoDataFrame.from_file(string)\n",
    "\n",
    "#cleanupdata\n",
    "for i in stringall: #This removes the path from the $PUIdata folder but it is still \"there\"\n",
    "    delPath = os.getenv(\"PUIDATA\")+ \"/\"+ i\n",
    "    os.system('rm ' + delPath)"
   ]
  },
  {
   "cell_type": "code",
   "execution_count": 3,
   "metadata": {},
   "outputs": [
    {
     "name": "stdout",
     "output_type": "stream",
     "text": [
      "201808-citibike-tripdata.csv\r\n",
      "201808-citibike-tripdata.csv.zip\r\n",
      "ACS_16_1YR_GCT2801.ST50_metadata.csv\r\n",
      "ACS_16_1YR_GCT2801.ST50.txt\r\n",
      "ACS_16_1YR_GCT2801.ST50_with_ann.csv\r\n",
      "ACS_16_1YR_GCT2801.ST50.zip\r\n",
      "aff_download_readme_ann.txt\r\n",
      "busdata.txt\r\n",
      "citibikecsv_05_16\r\n",
      "citibikecsv_05_16.zip\r\n",
      "citibikecsv_06_16\r\n",
      "citibikecsv_06_16.zip\r\n",
      "file.gz\r\n",
      "geo_export_39b38f3a-92c8-4b9a-85fb-834057452b35.dbf\r\n",
      "geo_export_39b38f3a-92c8-4b9a-85fb-834057452b35.prj\r\n",
      "geo_export_39b38f3a-92c8-4b9a-85fb-834057452b35.shp\r\n",
      "geo_export_39b38f3a-92c8-4b9a-85fb-834057452b35.shx\r\n",
      "geo_export_4aa52bb9-9a40-4d4a-979d-bcdcbc146e69.dbf\r\n",
      "geo_export_4aa52bb9-9a40-4d4a-979d-bcdcbc146e69.prj\r\n",
      "geo_export_4aa52bb9-9a40-4d4a-979d-bcdcbc146e69.shp\r\n",
      "geo_export_4aa52bb9-9a40-4d4a-979d-bcdcbc146e69.shx\r\n",
      "geo_export_7977d278-c976-48c7-bcb3-34edfce91307.dbf\r\n",
      "geo_export_7977d278-c976-48c7-bcb3-34edfce91307.prj\r\n",
      "geo_export_7977d278-c976-48c7-bcb3-34edfce91307.shp\r\n",
      "geo_export_7977d278-c976-48c7-bcb3-34edfce91307.shx\r\n",
      "geo_export_7ec44b98-3237-43b1-815c-71e39d2dd155.dbf\r\n",
      "geo_export_7ec44b98-3237-43b1-815c-71e39d2dd155.prj\r\n",
      "geo_export_7ec44b98-3237-43b1-815c-71e39d2dd155.shp\r\n",
      "geo_export_7ec44b98-3237-43b1-815c-71e39d2dd155.shx\r\n",
      "geo_export_a9fb637d-cad7-426f-9729-90a1241e1db7.dbf\r\n",
      "geo_export_a9fb637d-cad7-426f-9729-90a1241e1db7.prj\r\n",
      "geo_export_a9fb637d-cad7-426f-9729-90a1241e1db7.shp\r\n",
      "geo_export_a9fb637d-cad7-426f-9729-90a1241e1db7.shx\r\n",
      "geo_export_aac6a6bc-a0cf-40fa-9f1c-8a4950b7c68f.dbf\r\n",
      "geo_export_aac6a6bc-a0cf-40fa-9f1c-8a4950b7c68f.prj\r\n",
      "geo_export_aac6a6bc-a0cf-40fa-9f1c-8a4950b7c68f.shp\r\n",
      "geo_export_aac6a6bc-a0cf-40fa-9f1c-8a4950b7c68f.shx\r\n",
      "geo_export_b19528f8-d485-4ae4-84b0-6102ad60fc40.dbf\r\n",
      "geo_export_b19528f8-d485-4ae4-84b0-6102ad60fc40.prj\r\n",
      "geo_export_b19528f8-d485-4ae4-84b0-6102ad60fc40.shp\r\n",
      "geo_export_b19528f8-d485-4ae4-84b0-6102ad60fc40.shx\r\n",
      "hw.txt\r\n",
      "pluto_data.zip\r\n",
      "PLUTO_for_WEB\r\n",
      "PUI2018\r\n"
     ]
    }
   ],
   "source": [
    "!ls $PUIDATA #unsure why this lists this and not data in puidata folder "
   ]
  },
  {
   "cell_type": "code",
   "execution_count": 4,
   "metadata": {},
   "outputs": [
    {
     "data": {
      "text/html": [
       "<div>\n",
       "<table border=\"1\" class=\"dataframe\">\n",
       "  <thead>\n",
       "    <tr style=\"text-align: right;\">\n",
       "      <th></th>\n",
       "      <th>puma</th>\n",
       "      <th>shape_area</th>\n",
       "      <th>shape_leng</th>\n",
       "      <th>geometry</th>\n",
       "    </tr>\n",
       "  </thead>\n",
       "  <tbody>\n",
       "    <tr>\n",
       "      <th>0</th>\n",
       "      <td>3701</td>\n",
       "      <td>9.792852e+07</td>\n",
       "      <td>53227.144461</td>\n",
       "      <td>POLYGON ((-73.89641133483133 40.90450452082026...</td>\n",
       "    </tr>\n",
       "    <tr>\n",
       "      <th>1</th>\n",
       "      <td>3702</td>\n",
       "      <td>1.889860e+08</td>\n",
       "      <td>106050.002302</td>\n",
       "      <td>POLYGON ((-73.8442314689986 40.86942035096838,...</td>\n",
       "    </tr>\n",
       "    <tr>\n",
       "      <th>2</th>\n",
       "      <td>3703</td>\n",
       "      <td>2.670137e+08</td>\n",
       "      <td>304071.257466</td>\n",
       "      <td>(POLYGON ((-73.78833349834532 40.8346671297593...</td>\n",
       "    </tr>\n",
       "    <tr>\n",
       "      <th>3</th>\n",
       "      <td>3704</td>\n",
       "      <td>1.062129e+08</td>\n",
       "      <td>47970.901277</td>\n",
       "      <td>POLYGON ((-73.84792614069238 40.8713422330779,...</td>\n",
       "    </tr>\n",
       "    <tr>\n",
       "      <th>4</th>\n",
       "      <td>4015</td>\n",
       "      <td>8.105438e+07</td>\n",
       "      <td>50007.415493</td>\n",
       "      <td>POLYGON ((-73.95374853778468 40.63858633758547...</td>\n",
       "    </tr>\n",
       "    <tr>\n",
       "      <th>5</th>\n",
       "      <td>4016</td>\n",
       "      <td>1.207135e+08</td>\n",
       "      <td>109477.751817</td>\n",
       "      <td>POLYGON ((-73.94405560932151 40.61199284173428...</td>\n",
       "    </tr>\n",
       "    <tr>\n",
       "      <th>6</th>\n",
       "      <td>3705</td>\n",
       "      <td>1.224951e+08</td>\n",
       "      <td>68657.316149</td>\n",
       "      <td>POLYGON ((-73.87359713633828 40.83979855593596...</td>\n",
       "    </tr>\n",
       "    <tr>\n",
       "      <th>7</th>\n",
       "      <td>3706</td>\n",
       "      <td>4.388687e+07</td>\n",
       "      <td>51799.404183</td>\n",
       "      <td>POLYGON ((-73.88785196328796 40.8721141761279,...</td>\n",
       "    </tr>\n",
       "    <tr>\n",
       "      <th>8</th>\n",
       "      <td>3707</td>\n",
       "      <td>4.228113e+07</td>\n",
       "      <td>37347.925798</td>\n",
       "      <td>POLYGON ((-73.89735765412577 40.8587627349268,...</td>\n",
       "    </tr>\n",
       "    <tr>\n",
       "      <th>9</th>\n",
       "      <td>4006</td>\n",
       "      <td>6.184965e+07</td>\n",
       "      <td>42555.996557</td>\n",
       "      <td>POLYGON ((-73.95526963654763 40.67012490485409...</td>\n",
       "    </tr>\n",
       "  </tbody>\n",
       "</table>\n",
       "</div>"
      ],
      "text/plain": [
       "   puma    shape_area     shape_leng  \\\n",
       "0  3701  9.792852e+07   53227.144461   \n",
       "1  3702  1.889860e+08  106050.002302   \n",
       "2  3703  2.670137e+08  304071.257466   \n",
       "3  3704  1.062129e+08   47970.901277   \n",
       "4  4015  8.105438e+07   50007.415493   \n",
       "5  4016  1.207135e+08  109477.751817   \n",
       "6  3705  1.224951e+08   68657.316149   \n",
       "7  3706  4.388687e+07   51799.404183   \n",
       "8  3707  4.228113e+07   37347.925798   \n",
       "9  4006  6.184965e+07   42555.996557   \n",
       "\n",
       "                                            geometry  \n",
       "0  POLYGON ((-73.89641133483133 40.90450452082026...  \n",
       "1  POLYGON ((-73.8442314689986 40.86942035096838,...  \n",
       "2  (POLYGON ((-73.78833349834532 40.8346671297593...  \n",
       "3  POLYGON ((-73.84792614069238 40.8713422330779,...  \n",
       "4  POLYGON ((-73.95374853778468 40.63858633758547...  \n",
       "5  POLYGON ((-73.94405560932151 40.61199284173428...  \n",
       "6  POLYGON ((-73.87359713633828 40.83979855593596...  \n",
       "7  POLYGON ((-73.88785196328796 40.8721141761279,...  \n",
       "8  POLYGON ((-73.89735765412577 40.8587627349268,...  \n",
       "9  POLYGON ((-73.95526963654763 40.67012490485409...  "
      ]
     },
     "execution_count": 4,
     "metadata": {},
     "output_type": "execute_result"
    }
   ],
   "source": [
    "pumashp.head(10)"
   ]
  },
  {
   "cell_type": "code",
   "execution_count": 5,
   "metadata": {},
   "outputs": [
    {
     "data": {
      "text/plain": [
       "{'init': 'epsg:4326'}"
      ]
     },
     "execution_count": 5,
     "metadata": {},
     "output_type": "execute_result"
    }
   ],
   "source": [
    "pumashp.crs\n"
   ]
  },
  {
   "cell_type": "code",
   "execution_count": 6,
   "metadata": {},
   "outputs": [
    {
     "data": {
      "text/plain": [
       "Text(0.5,0.01,'Figure 1.2: This is a base map of PUMA districts in NYC')"
      ]
     },
     "execution_count": 6,
     "metadata": {},
     "output_type": "execute_result"
    },
    {
     "data": {
      "image/png": "[encoded data removed]",
      "text/plain": [
       "<matplotlib.figure.Figure at 0x7f51f63a2550>"
      ]
     },
     "metadata": {},
     "output_type": "display_data"
    }
   ],
   "source": [
    "fig, ax = plt.subplots(figsize=(13,10))\n",
    "ax.get_xaxis().set_visible(True) #takes away axis from the map x,y axis relates to Lat, Long \n",
    "ax.get_yaxis().set_visible(True) #latitude\n",
    "pumashp.plot(color=\"white\", edgecolor=\"black\", lw=1, ax=ax)\n",
    "plt.title(\"PUMA Districts NYC\");\n",
    "\n",
    "txt = \"Figure 1.2: This is a base map of PUMA districts in NYC\"\n",
    "plt.figtext(0.5, 0.01, txt, wrap=True, horizontalalignment='center', fontsize=12)\n"
   ]
  },
  {
   "cell_type": "markdown",
   "metadata": {},
   "source": [
    "# Assignment 2"
   ]
  },
  {
   "cell_type": "code",
   "execution_count": 7,
   "metadata": {},
   "outputs": [],
   "source": [
    "#reading in my api key saved in censusAPI.py as #this is fb55 code, not sure what it means\n",
    "#myAPI = 'XXXXXXXXXXXXXXX'\n",
    "# from censusAPI import myAPI"
   ]
  },
  {
   "cell_type": "code",
   "execution_count": 8,
   "metadata": {},
   "outputs": [],
   "source": [
    "url = 'https://api.census.gov/data/2016/acs/acs1/variables.json'\n",
    "resp = requests.request('GET', url)\n",
    "aff1y = json.loads(resp.text)"
   ]
  },
  {
   "cell_type": "code",
   "execution_count": 9,
   "metadata": {},
   "outputs": [],
   "source": [
    "#turning things into arrays to enable broadcasting\n",
    "#Python3\n",
    "affkeys = np.array(list(aff1y['variables'].keys()))\n",
    "#Python2\n",
    "#affkeys = np.array(aff1y['variables'].keys())"
   ]
  },
  {
   "cell_type": "markdown",
   "metadata": {},
   "source": [
    "You need two features: total number of households, and number of households with broadband access\n",
    "\n",
    "Broadband access is one of the B28002 keys. However there are many of those! Each variable has several observations associated to it: B28002 is all internet access data (broadband, dial up, none, ...), and for each of those you have the estimate (count, mean, median, percentage...), the margin of errors, and annotations. Those are identified by an appendix that begins with \"_\". Look carefully at the line of code below and its output. I am creating a list that contains the keys of the dictionary I created from the json file for all B28002 observations (rows that start with \"B28002\") that include the word \"Broadband\" in the description.\n",
    "\n",
    "The syntax is a lost comprehension:\n",
    "\n",
    "    as = \\[a for a in listOfAs\\] \n",
    "\n",
    "is simply a compact way to write\n",
    "\n",
    "    as = \\[\\]\n",
    "    for a in listOfAs:\n",
    "        as.append(a)"
   ]
  },
  {
   "cell_type": "code",
   "execution_count": 10,
   "metadata": {},
   "outputs": [
    {
     "data": {
      "text/plain": [
       "[('B28002_007E',\n",
       "  'Estimate!!Total!!With an Internet subscription!!Broadband such as cable, fiber optic or DSL'),\n",
       " ('B28002_004E',\n",
       "  'Estimate!!Total!!With an Internet subscription!!Broadband of any type'),\n",
       " ('B28002_008E',\n",
       "  'Estimate!!Total!!With an Internet subscription!!Broadband such as cable, fiber optic or DSL!!Broadband such as cable, fiber optic or DSL with no other type of Internet subscription')]"
      ]
     },
     "execution_count": 10,
     "metadata": {},
     "output_type": "execute_result"
    }
   ],
   "source": [
    "#extracting variables of B28002 that contain \"broadband\"\n",
    "[(k, aff1y['variables'][k]['label'])  for k in affkeys if k.startswith (\"B28002\") and \n",
    " 'Broadband' in aff1y['variables'][k]['label']]"
   ]
  },
  {
   "cell_type": "code",
   "execution_count": 11,
   "metadata": {},
   "outputs": [
    {
     "data": {
      "text/plain": [
       "{'attributes': 'B28002_001M,B28002_001EA',\n",
       " 'concept': 'PRESENCE AND TYPES OF INTERNET SUBSCRIPTIONS IN HOUSEHOLD',\n",
       " 'group': 'B28002',\n",
       " 'label': 'Estimate!!Total',\n",
       " 'limit': 0,\n",
       " 'predicateType': 'int'}"
      ]
     },
     "execution_count": 11,
     "metadata": {},
     "output_type": "execute_result"
    }
   ],
   "source": [
    "#keyword for the number of households\n",
    "keyNhouseholds = 'B28002_001E'\n",
    "aff1y['variables'][keyNhouseholds]"
   ]
  },
  {
   "cell_type": "code",
   "execution_count": 12,
   "metadata": {},
   "outputs": [
    {
     "data": {
      "text/plain": [
       "{'attributes': 'B28002_004M,B28002_004EA',\n",
       " 'concept': 'PRESENCE AND TYPES OF INTERNET SUBSCRIPTIONS IN HOUSEHOLD',\n",
       " 'group': 'B28002',\n",
       " 'label': 'Estimate!!Total!!With an Internet subscription!!Broadband of any type',\n",
       " 'limit': 0,\n",
       " 'predicateType': 'int'}"
      ]
     },
     "execution_count": 12,
     "metadata": {},
     "output_type": "execute_result"
    }
   ],
   "source": [
    "#keyword for the number of households with broarband access\n",
    "keyNBB = 'B28002_004E'\n",
    "aff1y['variables'][keyNBB]"
   ]
  },
  {
   "cell_type": "code",
   "execution_count": 13,
   "metadata": {},
   "outputs": [],
   "source": [
    "url =  \"https://api.census.gov/data/2016/acs/acs1?get=\" + keyNBB +\\\n",
    "\",NAME&for=public%20use%20microdata%20area:*&in=state:36\" + \"&key=myAPI\"\n",
    "#get = keyNBB, "
   ]
  },
  {
   "cell_type": "markdown",
   "metadata": {},
   "source": [
    "## This will not work in the final version because i had to remove my api key in order to upload my notebook which is why you are seeing the error below, with your own api key it should work."
   ]
  },
  {
   "cell_type": "code",
   "execution_count": 14,
   "metadata": {},
   "outputs": [
    {
     "ename": "CParserError",
     "evalue": "Error tokenizing data. C error: Expected 1 fields in line 9, saw 3\n",
     "output_type": "error",
     "traceback": [
      "\u001b[0;31m---------------------------------------------------------------------------\u001b[0m",
      "\u001b[0;31mCParserError\u001b[0m                              Traceback (most recent call last)",
      "\u001b[0;32m<ipython-input-14-e949709174a1>\u001b[0m in \u001b[0;36m<module>\u001b[0;34m()\u001b[0m\n\u001b[1;32m      1\u001b[0m \u001b[0mresp\u001b[0m \u001b[0;34m=\u001b[0m \u001b[0mrequests\u001b[0m\u001b[0;34m.\u001b[0m\u001b[0mrequest\u001b[0m\u001b[0;34m(\u001b[0m\u001b[0;34m'GET'\u001b[0m\u001b[0;34m,\u001b[0m \u001b[0murl\u001b[0m\u001b[0;34m)\u001b[0m\u001b[0;34m.\u001b[0m\u001b[0mcontent\u001b[0m\u001b[0;34m\u001b[0m\u001b[0m\n\u001b[0;32m----> 2\u001b[0;31m \u001b[0mpumaBB\u001b[0m \u001b[0;34m=\u001b[0m \u001b[0mpd\u001b[0m\u001b[0;34m.\u001b[0m\u001b[0mread_csv\u001b[0m\u001b[0;34m(\u001b[0m\u001b[0mio\u001b[0m\u001b[0;34m.\u001b[0m\u001b[0mStringIO\u001b[0m\u001b[0;34m(\u001b[0m\u001b[0mresp\u001b[0m\u001b[0;34m.\u001b[0m\u001b[0mdecode\u001b[0m\u001b[0;34m(\u001b[0m\u001b[0;34m'utf-8'\u001b[0m\u001b[0;34m)\u001b[0m\u001b[0;34m.\u001b[0m\u001b[0mreplace\u001b[0m\u001b[0;34m(\u001b[0m\u001b[0;34m'['\u001b[0m\u001b[0;34m,\u001b[0m\u001b[0;34m''\u001b[0m\u001b[0;34m)\u001b[0m\u001b[0;34m.\u001b[0m\u001b[0mreplace\u001b[0m\u001b[0;34m(\u001b[0m\u001b[0;34m']'\u001b[0m\u001b[0;34m,\u001b[0m\u001b[0;34m''\u001b[0m\u001b[0;34m)\u001b[0m\u001b[0;34m)\u001b[0m\u001b[0;34m)\u001b[0m\u001b[0;34m\u001b[0m\u001b[0m\n\u001b[0m\u001b[1;32m      3\u001b[0m \u001b[0;34m\u001b[0m\u001b[0m\n\u001b[1;32m      4\u001b[0m \u001b[0mpumaBB\u001b[0m\u001b[0;34m\u001b[0m\u001b[0m\n",
      "\u001b[0;32m/usr/local/Anaconda3-5.0.0-Linux-x86_64/envs/PUI2016_Python3/lib/python3.5/site-packages/pandas/io/parsers.py\u001b[0m in \u001b[0;36mparser_f\u001b[0;34m(filepath_or_buffer, sep, delimiter, header, names, index_col, usecols, squeeze, prefix, mangle_dupe_cols, dtype, engine, converters, true_values, false_values, skipinitialspace, skiprows, skipfooter, nrows, na_values, keep_default_na, na_filter, verbose, skip_blank_lines, parse_dates, infer_datetime_format, keep_date_col, date_parser, dayfirst, iterator, chunksize, compression, thousands, decimal, lineterminator, quotechar, quoting, escapechar, comment, encoding, dialect, tupleize_cols, error_bad_lines, warn_bad_lines, skip_footer, doublequote, delim_whitespace, as_recarray, compact_ints, use_unsigned, low_memory, buffer_lines, memory_map, float_precision)\u001b[0m\n\u001b[1;32m    560\u001b[0m                     skip_blank_lines=skip_blank_lines)\n\u001b[1;32m    561\u001b[0m \u001b[0;34m\u001b[0m\u001b[0m\n\u001b[0;32m--> 562\u001b[0;31m         \u001b[0;32mreturn\u001b[0m \u001b[0m_read\u001b[0m\u001b[0;34m(\u001b[0m\u001b[0mfilepath_or_buffer\u001b[0m\u001b[0;34m,\u001b[0m \u001b[0mkwds\u001b[0m\u001b[0;34m)\u001b[0m\u001b[0;34m\u001b[0m\u001b[0m\n\u001b[0m\u001b[1;32m    563\u001b[0m \u001b[0;34m\u001b[0m\u001b[0m\n\u001b[1;32m    564\u001b[0m     \u001b[0mparser_f\u001b[0m\u001b[0;34m.\u001b[0m\u001b[0m__name__\u001b[0m \u001b[0;34m=\u001b[0m \u001b[0mname\u001b[0m\u001b[0;34m\u001b[0m\u001b[0m\n",
      "\u001b[0;32m/usr/local/Anaconda3-5.0.0-Linux-x86_64/envs/PUI2016_Python3/lib/python3.5/site-packages/pandas/io/parsers.py\u001b[0m in \u001b[0;36m_read\u001b[0;34m(filepath_or_buffer, kwds)\u001b[0m\n\u001b[1;32m    323\u001b[0m         \u001b[0;32mreturn\u001b[0m \u001b[0mparser\u001b[0m\u001b[0;34m\u001b[0m\u001b[0m\n\u001b[1;32m    324\u001b[0m \u001b[0;34m\u001b[0m\u001b[0m\n\u001b[0;32m--> 325\u001b[0;31m     \u001b[0;32mreturn\u001b[0m \u001b[0mparser\u001b[0m\u001b[0;34m.\u001b[0m\u001b[0mread\u001b[0m\u001b[0;34m(\u001b[0m\u001b[0;34m)\u001b[0m\u001b[0;34m\u001b[0m\u001b[0m\n\u001b[0m\u001b[1;32m    326\u001b[0m \u001b[0;34m\u001b[0m\u001b[0m\n\u001b[1;32m    327\u001b[0m _parser_defaults = {\n",
      "\u001b[0;32m/usr/local/Anaconda3-5.0.0-Linux-x86_64/envs/PUI2016_Python3/lib/python3.5/site-packages/pandas/io/parsers.py\u001b[0m in \u001b[0;36mread\u001b[0;34m(self, nrows)\u001b[0m\n\u001b[1;32m    813\u001b[0m                 \u001b[0;32mraise\u001b[0m \u001b[0mValueError\u001b[0m\u001b[0;34m(\u001b[0m\u001b[0;34m'skip_footer not supported for iteration'\u001b[0m\u001b[0;34m)\u001b[0m\u001b[0;34m\u001b[0m\u001b[0m\n\u001b[1;32m    814\u001b[0m \u001b[0;34m\u001b[0m\u001b[0m\n\u001b[0;32m--> 815\u001b[0;31m         \u001b[0mret\u001b[0m \u001b[0;34m=\u001b[0m \u001b[0mself\u001b[0m\u001b[0;34m.\u001b[0m\u001b[0m_engine\u001b[0m\u001b[0;34m.\u001b[0m\u001b[0mread\u001b[0m\u001b[0;34m(\u001b[0m\u001b[0mnrows\u001b[0m\u001b[0;34m)\u001b[0m\u001b[0;34m\u001b[0m\u001b[0m\n\u001b[0m\u001b[1;32m    816\u001b[0m \u001b[0;34m\u001b[0m\u001b[0m\n\u001b[1;32m    817\u001b[0m         \u001b[0;32mif\u001b[0m \u001b[0mself\u001b[0m\u001b[0;34m.\u001b[0m\u001b[0moptions\u001b[0m\u001b[0;34m.\u001b[0m\u001b[0mget\u001b[0m\u001b[0;34m(\u001b[0m\u001b[0;34m'as_recarray'\u001b[0m\u001b[0;34m)\u001b[0m\u001b[0;34m:\u001b[0m\u001b[0;34m\u001b[0m\u001b[0m\n",
      "\u001b[0;32m/usr/local/Anaconda3-5.0.0-Linux-x86_64/envs/PUI2016_Python3/lib/python3.5/site-packages/pandas/io/parsers.py\u001b[0m in \u001b[0;36mread\u001b[0;34m(self, nrows)\u001b[0m\n\u001b[1;32m   1312\u001b[0m     \u001b[0;32mdef\u001b[0m \u001b[0mread\u001b[0m\u001b[0;34m(\u001b[0m\u001b[0mself\u001b[0m\u001b[0;34m,\u001b[0m \u001b[0mnrows\u001b[0m\u001b[0;34m=\u001b[0m\u001b[0;32mNone\u001b[0m\u001b[0;34m)\u001b[0m\u001b[0;34m:\u001b[0m\u001b[0;34m\u001b[0m\u001b[0m\n\u001b[1;32m   1313\u001b[0m         \u001b[0;32mtry\u001b[0m\u001b[0;34m:\u001b[0m\u001b[0;34m\u001b[0m\u001b[0m\n\u001b[0;32m-> 1314\u001b[0;31m             \u001b[0mdata\u001b[0m \u001b[0;34m=\u001b[0m \u001b[0mself\u001b[0m\u001b[0;34m.\u001b[0m\u001b[0m_reader\u001b[0m\u001b[0;34m.\u001b[0m\u001b[0mread\u001b[0m\u001b[0;34m(\u001b[0m\u001b[0mnrows\u001b[0m\u001b[0;34m)\u001b[0m\u001b[0;34m\u001b[0m\u001b[0m\n\u001b[0m\u001b[1;32m   1315\u001b[0m         \u001b[0;32mexcept\u001b[0m \u001b[0mStopIteration\u001b[0m\u001b[0;34m:\u001b[0m\u001b[0;34m\u001b[0m\u001b[0m\n\u001b[1;32m   1316\u001b[0m             \u001b[0;32mif\u001b[0m \u001b[0mself\u001b[0m\u001b[0;34m.\u001b[0m\u001b[0m_first_chunk\u001b[0m\u001b[0;34m:\u001b[0m\u001b[0;34m\u001b[0m\u001b[0m\n",
      "\u001b[0;32mpandas/parser.pyx\u001b[0m in \u001b[0;36mpandas.parser.TextReader.read (pandas/parser.c:8748)\u001b[0;34m()\u001b[0m\n",
      "\u001b[0;32mpandas/parser.pyx\u001b[0m in \u001b[0;36mpandas.parser.TextReader._read_low_memory (pandas/parser.c:9003)\u001b[0;34m()\u001b[0m\n",
      "\u001b[0;32mpandas/parser.pyx\u001b[0m in \u001b[0;36mpandas.parser.TextReader._read_rows (pandas/parser.c:9731)\u001b[0;34m()\u001b[0m\n",
      "\u001b[0;32mpandas/parser.pyx\u001b[0m in \u001b[0;36mpandas.parser.TextReader._tokenize_rows (pandas/parser.c:9602)\u001b[0;34m()\u001b[0m\n",
      "\u001b[0;32mpandas/parser.pyx\u001b[0m in \u001b[0;36mpandas.parser.raise_parser_error (pandas/parser.c:23325)\u001b[0;34m()\u001b[0m\n",
      "\u001b[0;31mCParserError\u001b[0m: Error tokenizing data. C error: Expected 1 fields in line 9, saw 3\n"
     ]
    }
   ],
   "source": [
    "resp = requests.request('GET', url).content\n",
    "pumaBB = pd.read_csv(io.StringIO(resp.decode('utf-8').replace('[','').replace(']','')))\n",
    "\n",
    "pumaBB"
   ]
  },
  {
   "cell_type": "code",
   "execution_count": null,
   "metadata": {},
   "outputs": [],
   "source": []
  },
  {
   "cell_type": "code",
   "execution_count": null,
   "metadata": {},
   "outputs": [],
   "source": [
    "url = url =  \"https://api.census.gov/data/2016/acs/acs1?get=\" + keyNhouseholds +\\\n",
    "\",NAME&for=public%20use%20microdata%20area:*&in=state:36\" + \"&key= myAPI\"\n",
    "#get = keyNBB, \"\n",
    "\n",
    "resp = requests.request('GET', url).content\n",
    "pumaPP = pd.read_csv(io.StringIO(resp.decode('utf-8').replace('[','').replace(']','')))\n"
   ]
  },
  {
   "cell_type": "code",
   "execution_count": null,
   "metadata": {},
   "outputs": [],
   "source": [
    "pumaPP.head(5)"
   ]
  },
  {
   "cell_type": "code",
   "execution_count": null,
   "metadata": {},
   "outputs": [],
   "source": [
    "pumaBB.drop(\"Unnamed: 4\", axis=1, inplace= True) #axis 1 is columns\n",
    "pumaPP.drop(\"Unnamed: 4\", axis=1, inplace= True)\n",
    "\n",
    "#dropping the unnamed:4 column from the dataframe"
   ]
  },
  {
   "cell_type": "code",
   "execution_count": null,
   "metadata": {},
   "outputs": [],
   "source": [
    "pumaBB = pumaBB.merge(pumaPP) \n",
    "\n",
    "#merging dataframes BB + PP into pumaBB as instructed by fb55"
   ]
  },
  {
   "cell_type": "code",
   "execution_count": null,
   "metadata": {},
   "outputs": [],
   "source": [
    "pumaBB['pcBB'] = pumaBB.B28002_004E/pumaBB.B28002_001E * 100\n",
    "\n",
    "#formula for percentages of households w/ broadband \n",
    "# B28002_004/B28002_001 = # of houses with broadband total "
   ]
  },
  {
   "cell_type": "code",
   "execution_count": null,
   "metadata": {},
   "outputs": [],
   "source": [
    "pumaBB.head(5)"
   ]
  },
  {
   "cell_type": "code",
   "execution_count": null,
   "metadata": {},
   "outputs": [],
   "source": [
    "file = os.getenv(\"PUIDATA\") + \"/ACS_16_1YR_GCT2801.ST50.zip\"\n",
    "os.system('unzip ' + file + ' -d $PUIDATA')\n",
    "#os.system(\"unzip \" + PUIdata + \"/ACS_16_1YR_GCT2801.ST50.zip -d \" + PUIdata)"
   ]
  },
  {
   "cell_type": "code",
   "execution_count": null,
   "metadata": {},
   "outputs": [],
   "source": [
    "bbpc = pd.read_csv(os.getenv(\"PUIDATA\") + \"/ACS_16_1YR_GCT2801.ST50_with_ann.csv\",\n",
    "            usecols=[\"GCT_STUB.target-geo-id2\",\"HC01\",\"HC02\"],skiprows=[1,2]) \n",
    "\n",
    "bbpc.head(5)"
   ]
  },
  {
   "cell_type": "code",
   "execution_count": null,
   "metadata": {},
   "outputs": [],
   "source": [
    "bbpc.rename(columns={\"GCT_STUB.target-geo-id2\": \"gid\"}, inplace=True) #renaming columns \\\n",
    "# important "
   ]
  },
  {
   "cell_type": "code",
   "execution_count": null,
   "metadata": {},
   "outputs": [],
   "source": [
    "bbpc.head(5)"
   ]
  },
  {
   "cell_type": "code",
   "execution_count": null,
   "metadata": {},
   "outputs": [],
   "source": [
    "\n",
    "\n",
    "#df = DataFrame(np.arange(10).reshape(5,2),columns=list('AB'))\n",
    "#bbpc.gid = bbpc.gid.astype()\n",
    "#bbpc.HC01 = bbpc.HC01.astype(np.int64)\n",
    "#bbpc.HC02 = bbpc.HC02.astype(np.int64)\n",
    "# df.column_name = df.column_name.astype(np.int64)\n",
    "\n",
    "\n",
    "\n",
    "#bbpc.gid.astype(int, copy=True, errors='coerce')\n",
    "#bbpc.HC01.astype(int, copy=True, errors='coerce') \n",
    "#bbpc.HC02.astype(int, copy=True, errors='coerce')\n",
    "#bbpc.head(5)"
   ]
  },
  {
   "cell_type": "code",
   "execution_count": null,
   "metadata": {},
   "outputs": [],
   "source": [
    "bbpc[\"gid\"] = bbpc.gid - 3600000\n",
    "bbpc.head(5)"
   ]
  },
  {
   "cell_type": "code",
   "execution_count": null,
   "metadata": {},
   "outputs": [],
   "source": [
    "diff_ = pumaBB.merge(bbpc, right_on=\"gid\", \n",
    "                     left_on=\"public use microdata area\")[[\"pcBB\", \"HC01\"]]\n",
    "\n",
    "diff_[\"diff\"] = np.abs(diff_[\"pcBB\"] - diff_[\"HC01\"].astype(float))\n",
    "\n",
    "diff_.describe()"
   ]
  },
  {
   "cell_type": "markdown",
   "metadata": {},
   "source": [
    "# Assignment 3 "
   ]
  },
  {
   "cell_type": "code",
   "execution_count": null,
   "metadata": {},
   "outputs": [],
   "source": [
    "pumashp.dtypes\n",
    "pumashp['puma'] = pumashp.puma.astype(int)"
   ]
  },
  {
   "cell_type": "code",
   "execution_count": null,
   "metadata": {},
   "outputs": [],
   "source": [
    "pumashp.dtypes #dtypes tells you what the df is (str, int)"
   ]
  },
  {
   "cell_type": "code",
   "execution_count": null,
   "metadata": {},
   "outputs": [],
   "source": [
    "pumashp = pumashp.merge(pumaBB, right_on=\"public use microdata area\", \n",
    "                     left_on=\"puma\")"
   ]
  },
  {
   "cell_type": "code",
   "execution_count": null,
   "metadata": {},
   "outputs": [],
   "source": [
    "pumashp.head(1)"
   ]
  },
  {
   "cell_type": "code",
   "execution_count": null,
   "metadata": {},
   "outputs": [],
   "source": [
    "#cp.choroplethNYC = pumashp\n",
    "\n",
    "f, ax = plt.subplots(figsize=(10,10))\n",
    "ax.get_xaxis().set_visible(False)\n",
    "ax.get_yaxis().set_visible(False)\n",
    "pumashp.plot(column='pcBB',cmap='viridis',alpha=1,linewidth=0.1,ax=ax)\n",
    "plt.title(\"NYC Broadband percentage by PUMA region\");\n",
    "\n",
    "txt = \"Figure 3.1: This figure shows the percentage of broadband users by PUMA region in NYC\"\n",
    "plt.figtext(0.5, 0.01, txt, wrap=True, horizontalalignment='center', fontsize=12)"
   ]
  },
  {
   "cell_type": "markdown",
   "metadata": {},
   "source": [
    "# Assignment 4\n"
   ]
  },
  {
   "cell_type": "code",
   "execution_count": null,
   "metadata": {},
   "outputs": [],
   "source": [
    "linknyc_pointloc = pd.read_csv(\"https://raw.githubusercontent.com/fedhere/PUI2018_fb55/master/HW7_fb55/linkNYClocations.csv\")\n",
    "\n",
    "### YOU MUST USE RAW github url NOT regular github url "
   ]
  },
  {
   "cell_type": "code",
   "execution_count": null,
   "metadata": {},
   "outputs": [],
   "source": [
    "linknyc_pointloc.head()\n"
   ]
  },
  {
   "cell_type": "code",
   "execution_count": null,
   "metadata": {},
   "outputs": [],
   "source": [
    "# combine lat and lon to one column\n",
    "linknyc_pointloc['lonlat']=list(zip(linknyc_pointloc.longitude,linknyc_pointloc.latitude))\n",
    "\n",
    "# Create Point Geometry for based on lonlat column\n",
    "linknyc_pointloc['geometry']=linknyc_pointloc[['lonlat']].applymap(lambda x:shapely.geometry.Point(x))\n",
    "\n",
    "linknyc_pointloc.head()"
   ]
  },
  {
   "cell_type": "code",
   "execution_count": null,
   "metadata": {},
   "outputs": [],
   "source": [
    " \n",
    "linknyc_pointloc = gpd.GeoDataFrame(linknyc_pointloc)\n",
    "#needed to add gpd. to define geodataframe"
   ]
  },
  {
   "cell_type": "code",
   "execution_count": null,
   "metadata": {},
   "outputs": [],
   "source": [
    "linknyc_pointloc.crs = from_epsg(4326)\n",
    "linknyc_pointloc.crs"
   ]
  },
  {
   "cell_type": "code",
   "execution_count": null,
   "metadata": {},
   "outputs": [],
   "source": [
    "f, ax = plt.subplots(figsize=(10,10)) #size of your plot (matplotlib, not gpd)\n",
    "ax.get_xaxis().set_visible(False) # sets if the axis' will be visible \n",
    "ax.get_yaxis().set_visible(False)\n",
    "\n",
    "pumashp.plot(column='pcBB',cmap='bone',alpha=1,linewidth=0.1, ax=ax, scheme='Equal_interval',\\\n",
    "             edgecolor='black', legend=True, k=5) \n",
    "\n",
    "#column is the data you are mapping\n",
    "#cmap is the mapping schema you will use, if you just use color= no variance in color\n",
    "#ax=ax IS VERY IMPORTANT WHEN YOU ARE plotting, make sure to set both plots to ax\n",
    "#scheme= codes the data into quantities(Q1,Q2)\n",
    "\n",
    "linknyc_pointloc.plot(column='date_link_', cmap='YlOrRd', markersize=7, ax=ax)\n",
    "plt.title(\"Link NYC locations within NYC PUMA regions\");\n",
    "                      \n",
    "txt = \"Figure 4.1: This map shows the percentage of broadband users by NYC PUMA region with\\\n",
    "an overlayed geodataframe of LINKNYC locations with a variance based on their installation date\"\n",
    "plt.figtext(0.5, 0.01, txt, wrap=True, horizontalalignment='center', fontsize=12)\n",
    "#cmap='viridis',alpha=1,\n",
    "                  #linewidth=0.1,ax=ax, scheme=\"quantiles\", legend=True, k=10"
   ]
  },
  {
   "cell_type": "markdown",
   "metadata": {},
   "source": [
    "# Assignment 5"
   ]
  },
  {
   "cell_type": "code",
   "execution_count": null,
   "metadata": {},
   "outputs": [],
   "source": [
    "acspopulation = 'B00001_001E' #defining what key we want to use \n",
    "url = \"https://api.census.gov/data/2016/acs/acs1?get=\" + acspopulation +\\\n",
    "\",NAME&for=public%20use%20microdata%20area:*&in=state:36\" + \"&key=myAPI\"\n"
   ]
  },
  {
   "cell_type": "code",
   "execution_count": null,
   "metadata": {},
   "outputs": [],
   "source": [
    "resp = requests.request('GET', url).content\n",
    "puma_pop = pd.read_csv(io.StringIO(resp.decode('utf-8').replace('[','').replace(']','')))"
   ]
  },
  {
   "cell_type": "code",
   "execution_count": null,
   "metadata": {},
   "outputs": [],
   "source": [
    "puma_pop.head()"
   ]
  },
  {
   "cell_type": "code",
   "execution_count": null,
   "metadata": {},
   "outputs": [],
   "source": [
    "puma_pop.drop(\"Unnamed: 4\", axis=1, inplace= True)"
   ]
  },
  {
   "cell_type": "code",
   "execution_count": null,
   "metadata": {},
   "outputs": [],
   "source": [
    "puma_pop.head()"
   ]
  },
  {
   "cell_type": "code",
   "execution_count": null,
   "metadata": {},
   "outputs": [],
   "source": [
    "puma_pop.rename(columns={\"public use microdata area\": \"PUMA\"}, inplace=True)"
   ]
  },
  {
   "cell_type": "code",
   "execution_count": null,
   "metadata": {},
   "outputs": [],
   "source": [
    "puma_pop.head()"
   ]
  },
  {
   "cell_type": "code",
   "execution_count": null,
   "metadata": {},
   "outputs": [],
   "source": [
    "linknyc_pointloc = linknyc_pointloc.to_crs(epsg=2263)\n",
    "pumashp = pumashp.to_crs(epsg=2263)\n",
    "\n",
    "#creating new datafram (ex. linknyc_pointloc_fin FROM linknyc_pointloc(alredy defined))\\\n",
    "#epsg \n"
   ]
  },
  {
   "cell_type": "code",
   "execution_count": null,
   "metadata": {},
   "outputs": [],
   "source": [
    "linknyc_pointloc = gpd.GeoDataFrame(linknyc_pointloc)\n",
    "pumashp = gpd.GeoDataFrame(pumashp)\n"
   ]
  },
  {
   "cell_type": "code",
   "execution_count": null,
   "metadata": {
    "scrolled": false
   },
   "outputs": [],
   "source": [
    "linkpp = gpd.sjoin(linknyc_pointloc, pumashp)"
   ]
  },
  {
   "cell_type": "code",
   "execution_count": null,
   "metadata": {},
   "outputs": [],
   "source": [
    "linkpp"
   ]
  },
  {
   "cell_type": "code",
   "execution_count": null,
   "metadata": {
    "scrolled": true
   },
   "outputs": [],
   "source": [
    "linkpp = gpd.sjoin(pumashp, linknyc_pointloc).groupby('puma')[['link_site']].count()"
   ]
  },
  {
   "cell_type": "code",
   "execution_count": null,
   "metadata": {},
   "outputs": [],
   "source": [
    "pumashplc = pd.merge(pumashp, linkpp, how='left', left_on='puma', right_index=True)\n",
    "\n",
    "#this is very confusing ASK ??????????????\n"
   ]
  },
  {
   "cell_type": "code",
   "execution_count": null,
   "metadata": {},
   "outputs": [],
   "source": [
    "pumashplc.head(5)"
   ]
  },
  {
   "cell_type": "code",
   "execution_count": null,
   "metadata": {},
   "outputs": [],
   "source": [
    "pumashplc[\"linkNYCp100p\"] = pumashplc.link_site/pumashplc.B28002_001E * 100\n",
    "pumashplc = pumashplc.fillna(0)\n",
    "pumashplc[\"linkNYCp100p\"].describe()"
   ]
  },
  {
   "cell_type": "code",
   "execution_count": null,
   "metadata": {},
   "outputs": [],
   "source": [
    "pumashplc"
   ]
  },
  {
   "cell_type": "code",
   "execution_count": null,
   "metadata": {},
   "outputs": [],
   "source": [
    "f, ax = plt.subplots(figsize=(10,10))\n",
    "\n",
    "pumashplc.plot(column='linkNYCp100p', cmap='bone', edgecolor='grey', scheme=\"Equal_interval\",k=10 ,lw=.1, legend=True, ax=ax)\n",
    "#base map \n",
    "\n",
    "linknyc_pointloc.plot(cmap='YlOrRd', markersize=1, ax=ax, legend=True)\n",
    "#point data of linknyc stations\n",
    "\n",
    "ax.get_xaxis().set_visible(False)\n",
    "ax.get_yaxis().set_visible(False)\n",
    "\n",
    "\n",
    "ax.set_title('Link Stations per 100 Residents', fontsize=15)\n",
    "\n",
    "\n",
    "txt = \"Figure 5.0:linkNYC locations overlayed on top of a choropleth of the number of LINKNYC stations per 100 people\"\n",
    "plt.figtext(0.5, 0.01, txt, wrap=True, horizontalalignment='center', fontsize=12)\n"
   ]
  },
  {
   "cell_type": "code",
   "execution_count": null,
   "metadata": {},
   "outputs": [],
   "source": []
  }
 ],
 "metadata": {
  "kernelspec": {
   "display_name": "PUI2016_Python3",
   "language": "python",
   "name": "pui2016_python3"
  },
  "language_info": {
   "codemirror_mode": {
    "name": "ipython",
    "version": 3
   },
   "file_extension": ".py",
   "mimetype": "text/x-python",
   "name": "python",
   "nbconvert_exporter": "python",
   "pygments_lexer": "ipython3",
   "version": "3.5.4"
  }
 },
 "nbformat": 4,
 "nbformat_minor": 2
}
