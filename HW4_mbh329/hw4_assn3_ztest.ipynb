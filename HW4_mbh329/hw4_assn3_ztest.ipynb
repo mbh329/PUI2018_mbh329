{
 "cells": [
  {
   "cell_type": "code",
   "execution_count": 1,
   "metadata": {},
   "outputs": [
    {
     "name": "stdout",
     "output_type": "stream",
     "text": [
      "Populating the interactive namespace from numpy and matplotlib\n",
      "/nfshome/mbh329/PUIdata\n"
     ]
    }
   ],
   "source": [
    "from __future__  import print_function, division\n",
    "import pylab as pl\n",
    "import pandas as pd\n",
    "import numpy as np\n",
    "import os\n",
    "import shutil \n",
    "%pylab inline\n",
    "\n",
    "puidata = os.getenv(\"PUIDATA\")\n",
    "if puidata is None:\n",
    "    os.environ[\"PUIDATA\"] = \"{}/PUIdata/\".format(os.getenv(\"HOME\"))\n",
    "    puidata = os.getenv(\"PUIDATA\")\n",
    "print(puidata)"
   ]
  },
  {
   "cell_type": "markdown",
   "metadata": {},
   "source": [
    "### Question\n",
    "\n",
    "#### How is the new bus line (the X8) effecting commute time at peak hours?\n",
    "\n",
    "### Idea\n",
    "#### The introduction of the X8 is improving commute time at peak hours\n",
    "\n",
    "### Null Hypothesis \n",
    "#### The average commute time at peak hours with the implementation of the X8 bus line will be the same or longer than\n",
    "#### the old commute time Tnew - Told  >= 0 \n",
    "\n",
    "### Hypothesis \n",
    "#### The average commute time at peak hours with the implementation of the X8 busline will be shorter than the old commute time \n",
    "#### Tnew - Told < 0\n",
    "\n",
    "### Significance Threshhold \n",
    "#### The significance threshold is set at 0.05 (5%). \n"
   ]
  },
  {
   "cell_type": "code",
   "execution_count": 2,
   "metadata": {},
   "outputs": [
    {
     "name": "stdout",
     "output_type": "stream",
     "text": [
      "  % Total    % Received % Xferd  Average Speed   Time    Time     Time  Current\n",
      "                                 Dload  Upload   Total   Spent    Left  Speed\n",
      "100  1179  100  1179    0     0   7511      0 --:--:-- --:--:-- --:--:--  7557\n"
     ]
    }
   ],
   "source": [
    "!curl https://raw.githubusercontent.com/fedhere/PUI2018_fb55/master/Lab4_fb55/times.txt > busdata.txt\n",
    "    ### getting the data from url prof. provided and then renaming it "
   ]
  },
  {
   "cell_type": "code",
   "execution_count": 3,
   "metadata": {},
   "outputs": [
    {
     "name": "stdout",
     "output_type": "stream",
     "text": [
      "PUIdata /nfshome/mbh329/PUIdata\n"
     ]
    }
   ],
   "source": [
    "print(\"PUIdata\", os.getenv(\"PUIDATA\"))"
   ]
  },
  {
   "cell_type": "code",
   "execution_count": 4,
   "metadata": {},
   "outputs": [],
   "source": [
    "!mv busdata.txt $PUIDATA"
   ]
  },
  {
   "cell_type": "code",
   "execution_count": 5,
   "metadata": {},
   "outputs": [],
   "source": [
    "busdata = pd.read_csv(\"%s/busdata.txt\"%os.getenv(\"PUIDATA\"), header=None)\n",
    "busdata.columns = [\"time\"] #This is how you rename a column"
   ]
  },
  {
   "cell_type": "code",
   "execution_count": 6,
   "metadata": {},
   "outputs": [
    {
     "data": {
      "text/html": [
       "<div>\n",
       "<table border=\"1\" class=\"dataframe\">\n",
       "  <thead>\n",
       "    <tr style=\"text-align: right;\">\n",
       "      <th></th>\n",
       "      <th>time</th>\n",
       "    </tr>\n",
       "  </thead>\n",
       "  <tbody>\n",
       "    <tr>\n",
       "      <th>0</th>\n",
       "      <td>31.622239</td>\n",
       "    </tr>\n",
       "    <tr>\n",
       "      <th>1</th>\n",
       "      <td>32.821376</td>\n",
       "    </tr>\n",
       "    <tr>\n",
       "      <th>2</th>\n",
       "      <td>30.229101</td>\n",
       "    </tr>\n",
       "    <tr>\n",
       "      <th>3</th>\n",
       "      <td>31.413766</td>\n",
       "    </tr>\n",
       "    <tr>\n",
       "      <th>4</th>\n",
       "      <td>39.010550</td>\n",
       "    </tr>\n",
       "  </tbody>\n",
       "</table>\n",
       "</div>"
      ],
      "text/plain": [
       "        time\n",
       "0  31.622239\n",
       "1  32.821376\n",
       "2  30.229101\n",
       "3  31.413766\n",
       "4  39.010550"
      ]
     },
     "execution_count": 6,
     "metadata": {},
     "output_type": "execute_result"
    }
   ],
   "source": [
    "busdata.head()"
   ]
  },
  {
   "cell_type": "code",
   "execution_count": 7,
   "metadata": {},
   "outputs": [
    {
     "name": "stdout",
     "output_type": "stream",
     "text": [
      "mean: 34.4661616883 std 7.13728013375\n"
     ]
    }
   ],
   "source": [
    "print('mean:' ,busdata['time'].mean(), 'std',busdata['time'].std()) #Getting the mean and std"
   ]
  },
  {
   "cell_type": "code",
   "execution_count": 8,
   "metadata": {},
   "outputs": [],
   "source": [
    "pop_mean = 36  #parametric variables that we inputted\n",
    "pop_std_dev = 6 \n",
    "samp_mean = busdata['time'].mean()\n",
    "N = busdata['time'].count()"
   ]
  },
  {
   "cell_type": "code",
   "execution_count": 9,
   "metadata": {},
   "outputs": [],
   "source": [
    "z_score = (pop_mean - samp_mean) / (pop_std_dev / np.sqrt(N))"
   ]
  },
  {
   "cell_type": "code",
   "execution_count": 10,
   "metadata": {},
   "outputs": [
    {
     "name": "stdout",
     "output_type": "stream",
     "text": [
      "2.55639718617\n"
     ]
    }
   ],
   "source": [
    "print(z_score) #YAY! zscore is correct"
   ]
  },
  {
   "cell_type": "code",
   "execution_count": 11,
   "metadata": {},
   "outputs": [],
   "source": [
    "two_sigmas = 2"
   ]
  },
  {
   "cell_type": "code",
   "execution_count": 12,
   "metadata": {},
   "outputs": [
    {
     "name": "stdout",
     "output_type": "stream",
     "text": [
      "Reject null hypothesis\n",
      "The average commute time at peak hours will be shorter\n"
     ]
    }
   ],
   "source": [
    "if z_score > two_sigmas:\n",
    "    print(\"Reject null hypothesis\")\n",
    "    print(\"The average commute time at peak hours will be shorter\")\n",
    "else:\n",
    "    print(\"Confirm null hypothesis\")\n",
    "    print(\"The average commute time at peak hours will be longer or the same \")\n",
    "    \n"
   ]
  },
  {
   "cell_type": "code",
   "execution_count": null,
   "metadata": {},
   "outputs": [],
   "source": []
  }
 ],
 "metadata": {
  "kernelspec": {
   "display_name": "PUI2016_Python3",
   "language": "python",
   "name": "pui2016_python3"
  },
  "language_info": {
   "codemirror_mode": {
    "name": "ipython",
    "version": 3
   },
   "file_extension": ".py",
   "mimetype": "text/x-python",
   "name": "python",
   "nbconvert_exporter": "python",
   "pygments_lexer": "ipython3",
   "version": "3.5.4"
  }
 },
 "nbformat": 4,
 "nbformat_minor": 2
}
