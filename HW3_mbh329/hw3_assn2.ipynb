{
 "cells": [
  {
   "cell_type": "code",
   "execution_count": 1,
   "metadata": {},
   "outputs": [],
   "source": [
    "from __future__ import print_function"
   ]
  },
  {
   "cell_type": "code",
   "execution_count": 2,
   "metadata": {},
   "outputs": [
    {
     "name": "stdout",
     "output_type": "stream",
     "text": [
      "Populating the interactive namespace from numpy and matplotlib\n"
     ]
    }
   ],
   "source": [
    "import os\n",
    "import numpy as np\n",
    "import pandas as pd\n",
    "import pylab as pl\n",
    "import matplotlib.pyplot as plt\n",
    "%pylab inline"
   ]
  },
  {
   "cell_type": "code",
   "execution_count": 11,
   "metadata": {},
   "outputs": [
    {
     "name": "stdout",
     "output_type": "stream",
     "text": [
      "  % Total    % Received % Xferd  Average Speed   Time    Time     Time  Current\n",
      "                                 Dload  Upload   Total   Spent    Left  Speed\n",
      "100 41414    0 41414    0     0   138k      0 --:--:-- --:--:-- --:--:--  138k\n"
     ]
    }
   ],
   "source": [
    "!curl https://data.cityofnewyork.us/api/views/ebb7-mvp5/rows.csv?accessType=DOWNLOAD > hw3assn2.csv"
   ]
  },
  {
   "cell_type": "code",
   "execution_count": 10,
   "metadata": {},
   "outputs": [
    {
     "name": "stdout",
     "output_type": "stream",
     "text": [
      "PUIdata /nfshome/mbh329/PUIdata\n"
     ]
    }
   ],
   "source": [
    "print(\"PUIdata\", os.getenv(\"PUIDATA\"))"
   ]
  },
  {
   "cell_type": "code",
   "execution_count": 19,
   "metadata": {},
   "outputs": [
    {
     "name": "stdout",
     "output_type": "stream",
     "text": [
      "mv: cannot stat 'hw3assn2.csv': No such file or directory\r\n"
     ]
    }
   ],
   "source": [
    "!mv hw3assn2.csv $PUIDATA"
   ]
  },
  {
   "cell_type": "code",
   "execution_count": 20,
   "metadata": {},
   "outputs": [
    {
     "name": "stdout",
     "output_type": "stream",
     "text": [
      "hw3assn2.csv  hw.txt  PUI2018\r\n"
     ]
    }
   ],
   "source": [
    "!ls $PUIDATA"
   ]
  },
  {
   "cell_type": "code",
   "execution_count": 22,
   "metadata": {},
   "outputs": [],
   "source": [
    "df = pd.read_csv('%s/hw3assn2.csv'%os.getenv(\"PUIDATA\"))"
   ]
  },
  {
   "cell_type": "code",
   "execution_count": 8,
   "metadata": {},
   "outputs": [
    {
     "data": {
      "text/html": [
       "<div>\n",
       "<table border=\"1\" class=\"dataframe\">\n",
       "  <thead>\n",
       "    <tr style=\"text-align: right;\">\n",
       "      <th></th>\n",
       "      <th>MONTH</th>\n",
       "      <th>BOROUGH</th>\n",
       "      <th>COMMUNITYDISTRICT</th>\n",
       "      <th>REFUSETONSCOLLECTED</th>\n",
       "      <th>PAPERTONSCOLLECTED</th>\n",
       "      <th>MGPTONSCOLLECTED</th>\n",
       "      <th>RESORGANICSTONS</th>\n",
       "      <th>SCHOOLORGANICTONS</th>\n",
       "      <th>LEAVESORGANICTONS</th>\n",
       "      <th>XMASTREETONS</th>\n",
       "      <th>BOROUGH_ID</th>\n",
       "    </tr>\n",
       "  </thead>\n",
       "  <tbody>\n",
       "    <tr>\n",
       "      <th>0</th>\n",
       "      <td>2017 / 08</td>\n",
       "      <td>Manhattan</td>\n",
       "      <td>7</td>\n",
       "      <td>4754.7</td>\n",
       "      <td>997.3</td>\n",
       "      <td>720.0</td>\n",
       "      <td>19.4</td>\n",
       "      <td>NaN</td>\n",
       "      <td>NaN</td>\n",
       "      <td>NaN</td>\n",
       "      <td>1</td>\n",
       "    </tr>\n",
       "    <tr>\n",
       "      <th>1</th>\n",
       "      <td>2017 / 08</td>\n",
       "      <td>Manhattan</td>\n",
       "      <td>12</td>\n",
       "      <td>4996.5</td>\n",
       "      <td>494.5</td>\n",
       "      <td>530.3</td>\n",
       "      <td>NaN</td>\n",
       "      <td>NaN</td>\n",
       "      <td>NaN</td>\n",
       "      <td>NaN</td>\n",
       "      <td>1</td>\n",
       "    </tr>\n",
       "    <tr>\n",
       "      <th>2</th>\n",
       "      <td>2017 / 08</td>\n",
       "      <td>Queens</td>\n",
       "      <td>8</td>\n",
       "      <td>3805.1</td>\n",
       "      <td>461.0</td>\n",
       "      <td>412.8</td>\n",
       "      <td>NaN</td>\n",
       "      <td>NaN</td>\n",
       "      <td>NaN</td>\n",
       "      <td>NaN</td>\n",
       "      <td>4</td>\n",
       "    </tr>\n",
       "    <tr>\n",
       "      <th>3</th>\n",
       "      <td>2017 / 08</td>\n",
       "      <td>Brooklyn</td>\n",
       "      <td>18</td>\n",
       "      <td>5907.8</td>\n",
       "      <td>584.1</td>\n",
       "      <td>599.3</td>\n",
       "      <td>NaN</td>\n",
       "      <td>NaN</td>\n",
       "      <td>NaN</td>\n",
       "      <td>NaN</td>\n",
       "      <td>3</td>\n",
       "    </tr>\n",
       "    <tr>\n",
       "      <th>4</th>\n",
       "      <td>2017 / 08</td>\n",
       "      <td>Queens</td>\n",
       "      <td>5</td>\n",
       "      <td>4827.9</td>\n",
       "      <td>597.6</td>\n",
       "      <td>758.9</td>\n",
       "      <td>185.3</td>\n",
       "      <td>NaN</td>\n",
       "      <td>NaN</td>\n",
       "      <td>NaN</td>\n",
       "      <td>4</td>\n",
       "    </tr>\n",
       "    <tr>\n",
       "      <th>5</th>\n",
       "      <td>2017 / 08</td>\n",
       "      <td>Bronx</td>\n",
       "      <td>9</td>\n",
       "      <td>4003.6</td>\n",
       "      <td>215.7</td>\n",
       "      <td>335.8</td>\n",
       "      <td>NaN</td>\n",
       "      <td>NaN</td>\n",
       "      <td>NaN</td>\n",
       "      <td>NaN</td>\n",
       "      <td>2</td>\n",
       "    </tr>\n",
       "    <tr>\n",
       "      <th>6</th>\n",
       "      <td>2017 / 08</td>\n",
       "      <td>Brooklyn</td>\n",
       "      <td>2</td>\n",
       "      <td>2448.5</td>\n",
       "      <td>544.3</td>\n",
       "      <td>360.0</td>\n",
       "      <td>53.5</td>\n",
       "      <td>NaN</td>\n",
       "      <td>NaN</td>\n",
       "      <td>NaN</td>\n",
       "      <td>3</td>\n",
       "    </tr>\n",
       "  </tbody>\n",
       "</table>\n",
       "</div>"
      ],
      "text/plain": [
       "       MONTH    BOROUGH  COMMUNITYDISTRICT  REFUSETONSCOLLECTED  \\\n",
       "0  2017 / 08  Manhattan                  7               4754.7   \n",
       "1  2017 / 08  Manhattan                 12               4996.5   \n",
       "2  2017 / 08     Queens                  8               3805.1   \n",
       "3  2017 / 08   Brooklyn                 18               5907.8   \n",
       "4  2017 / 08     Queens                  5               4827.9   \n",
       "5  2017 / 08      Bronx                  9               4003.6   \n",
       "6  2017 / 08   Brooklyn                  2               2448.5   \n",
       "\n",
       "   PAPERTONSCOLLECTED  MGPTONSCOLLECTED  RESORGANICSTONS  SCHOOLORGANICTONS  \\\n",
       "0               997.3             720.0             19.4                NaN   \n",
       "1               494.5             530.3              NaN                NaN   \n",
       "2               461.0             412.8              NaN                NaN   \n",
       "3               584.1             599.3              NaN                NaN   \n",
       "4               597.6             758.9            185.3                NaN   \n",
       "5               215.7             335.8              NaN                NaN   \n",
       "6               544.3             360.0             53.5                NaN   \n",
       "\n",
       "   LEAVESORGANICTONS  XMASTREETONS  BOROUGH_ID  \n",
       "0                NaN           NaN           1  \n",
       "1                NaN           NaN           1  \n",
       "2                NaN           NaN           4  \n",
       "3                NaN           NaN           3  \n",
       "4                NaN           NaN           4  \n",
       "5                NaN           NaN           2  \n",
       "6                NaN           NaN           3  "
      ]
     },
     "execution_count": 8,
     "metadata": {},
     "output_type": "execute_result"
    }
   ],
   "source": [
    "df.head(7)"
   ]
  },
  {
   "cell_type": "code",
   "execution_count": 27,
   "metadata": {},
   "outputs": [],
   "source": [
    "df_2c = df [[\"REFUSETONSCOLLECTED\", \"PAPERTONSCOLLECTED\"]]"
   ]
  },
  {
   "cell_type": "code",
   "execution_count": 29,
   "metadata": {},
   "outputs": [
    {
     "data": {
      "text/html": [
       "<div>\n",
       "<table border=\"1\" class=\"dataframe\">\n",
       "  <thead>\n",
       "    <tr style=\"text-align: right;\">\n",
       "      <th></th>\n",
       "      <th>REFUSETONSCOLLECTED</th>\n",
       "      <th>PAPERTONSCOLLECTED</th>\n",
       "    </tr>\n",
       "  </thead>\n",
       "  <tbody>\n",
       "    <tr>\n",
       "      <th>0</th>\n",
       "      <td>4754.7</td>\n",
       "      <td>997.3</td>\n",
       "    </tr>\n",
       "    <tr>\n",
       "      <th>1</th>\n",
       "      <td>4996.5</td>\n",
       "      <td>494.5</td>\n",
       "    </tr>\n",
       "    <tr>\n",
       "      <th>2</th>\n",
       "      <td>3805.1</td>\n",
       "      <td>461.0</td>\n",
       "    </tr>\n",
       "    <tr>\n",
       "      <th>3</th>\n",
       "      <td>5907.8</td>\n",
       "      <td>584.1</td>\n",
       "    </tr>\n",
       "    <tr>\n",
       "      <th>4</th>\n",
       "      <td>4827.9</td>\n",
       "      <td>597.6</td>\n",
       "    </tr>\n",
       "    <tr>\n",
       "      <th>5</th>\n",
       "      <td>4003.6</td>\n",
       "      <td>215.7</td>\n",
       "    </tr>\n",
       "    <tr>\n",
       "      <th>6</th>\n",
       "      <td>2448.5</td>\n",
       "      <td>544.3</td>\n",
       "    </tr>\n",
       "  </tbody>\n",
       "</table>\n",
       "</div>"
      ],
      "text/plain": [
       "   REFUSETONSCOLLECTED  PAPERTONSCOLLECTED\n",
       "0               4754.7               997.3\n",
       "1               4996.5               494.5\n",
       "2               3805.1               461.0\n",
       "3               5907.8               584.1\n",
       "4               4827.9               597.6\n",
       "5               4003.6               215.7\n",
       "6               2448.5               544.3"
      ]
     },
     "execution_count": 29,
     "metadata": {},
     "output_type": "execute_result"
    }
   ],
   "source": [
    "df_2c.head(7)"
   ]
  },
  {
   "cell_type": "code",
   "execution_count": 31,
   "metadata": {},
   "outputs": [
    {
     "data": {
      "image/png": "[encoded data removed]",
      "text/plain": [
       "<matplotlib.figure.Figure at 0x7ff4be2150b8>"
      ]
     },
     "metadata": {},
     "output_type": "display_data"
    }
   ],
   "source": [
    "df_2c.plot(x=\"REFUSETONSCOLLECTED\", y=\"PAPERTONSCOLLECTED\", kind=\"scatter\");"
   ]
  },
  {
   "cell_type": "markdown",
   "metadata": {},
   "source": [
    "### Figure 1: In this figure, I have shown the tonnage of Refuse (x variable)collected monthly against the tonnage of paper collected (y variable) monthly by DSNY accessed through the NYC OPEN DATA website. \n",
    "\n",
    "### Analysis: The scatter plot shows a positive linear relationship with a few outliers. This data seems to suggest that there is a positive correlation between the amount of refuse collected with the amount of paper that is collected per month. "
   ]
  },
  {
   "cell_type": "code",
   "execution_count": null,
   "metadata": {},
   "outputs": [],
   "source": []
  }
 ],
 "metadata": {
  "kernelspec": {
   "display_name": "PUI2016_Python3",
   "language": "python",
   "name": "pui2016_python3"
  },
  "language_info": {
   "codemirror_mode": {
    "name": "ipython",
    "version": 3
   },
   "file_extension": ".py",
   "mimetype": "text/x-python",
   "name": "python",
   "nbconvert_exporter": "python",
   "pygments_lexer": "ipython3",
   "version": "3.5.4"
  }
 },
 "nbformat": 4,
 "nbformat_minor": 2
}
